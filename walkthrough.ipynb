{
 "nbformat": 4,
 "nbformat_minor": 2,
 "metadata": {
  "language_info": {
   "name": "python",
   "codemirror_mode": {
    "name": "ipython",
    "version": 3
   }
  },
  "orig_nbformat": 2,
  "file_extension": ".py",
  "mimetype": "text/x-python",
  "name": "python",
  "npconvert_exporter": "python",
  "pygments_lexer": "ipython3",
  "version": 3
 },
 "cells": [
  {
   "cell_type": "code",
   "execution_count": 1,
   "metadata": {},
   "outputs": [],
   "source": [
    "import pandas\n",
    "from pandas.io.json import json_normalize\n",
    "import matplotlib\n",
    "from matplotlib import pyplot as plt\n",
    "import tensorflow as tf\n",
    "import numpy as np"
   ]
  },
  {
   "cell_type": "code",
   "execution_count": 2,
   "metadata": {},
   "outputs": [],
   "source": [
    "df = pandas.read_json('/mnt/c/Code/cancer-survival-rates/data/processed/case_studies_clean.json')"
   ]
  },
  {
   "cell_type": "code",
   "execution_count": 3,
   "metadata": {},
   "outputs": [],
   "source": [
    "cleaned = df.loc[(df['major_site'] != 'Other') & ~df['ethnicity'].isin(['not reported']) & ~df['race'].isin(['not reported', 'Unknown', 'unknown', 'not allowed to collect']) & ~df['gender'].isin(['not reported', 'unknown'])].dropna(subset=['race', 'major_site', 'ethnicity', 'gender'])"
   ]
  },
  {
   "cell_type": "code",
   "execution_count": 4,
   "metadata": {},
   "outputs": [
    {
     "data": {
      "text/plain": "Lung              6930\nBreast            5145\nColorectoral      4771\nNervous system    2356\nOvary             1958\nKidney            1954\nSkin              1672\nUterus            1560\nPancreas          1494\nProstate          1279\nBladder           1013\nLiver              953\nSoft tissue        907\nThyroid            850\nEsophagus          795\nStomach            770\nBrain              756\nHead and neck      708\nAdrenal gland      499\nBone               417\nCervix             403\nLymph nodes        328\nTestis             309\nThymus             179\nEye                125\nBlood                1\nName: major_site, dtype: int64"
     },
     "execution_count": 4,
     "metadata": {},
     "output_type": "execute_result"
    }
   ],
   "source": [
    "cleaned['major_site'].value_counts()"
   ]
  },
  {
   "cell_type": "code",
   "execution_count": 11,
   "metadata": {},
   "outputs": [],
   "source": [
    "cleaned['is_breast'] = cleaned['major_site'].apply(lambda x: (1 if x == 'Breast' else 0))"
   ]
  },
  {
   "cell_type": "code",
   "execution_count": 19,
   "metadata": {},
   "outputs": [],
   "source": [
    "shuffled = cleaned.reindex(np.random.permutation(cleaned.index))"
   ]
  },
  {
   "cell_type": "code",
   "execution_count": 31,
   "metadata": {},
   "outputs": [],
   "source": [
    "def split_shuffled(dataset, percent):\n",
    "    split_on = int(len(dataset) * percent)\n",
    "    specified_size = dataset.head(split_on)\n",
    "    the_rest = dataset[split_on:]\n",
    "    return specified_size, the_rest\n",
    "\n",
    "# going with a simple vocab list since the number of potential values in each of our feature columns is pretty low\n",
    "def make_one_hot(source_set, column):\n",
    "    return tf.feature_column.categorical_column_with_vocabulary_list(column, source_set.dropna(subset=[column])[column].unique().tolist())\n",
    "\n",
    "def construct_feature_columns():\n",
    "    race = make_one_hot(cleaned, 'race')\n",
    "    gender = make_one_hot(cleaned, 'gender')\n",
    "    ethnicity = make_one_hot(cleaned, 'ethnicity')\n",
    "    return [race, gender, ethnicity]\n",
    "\n",
    "def preprocess(dataframe):\n",
    "    selected_features = dataframe[['gender', 'race', 'ethnicity']]\n",
    "    selected_labels = dataframe['is_breast']\n",
    "    return selected_features.copy(), selected_labels.copy()"
   ]
  },
  {
   "cell_type": "code",
   "execution_count": 32,
   "metadata": {},
   "outputs": [],
   "source": [
    "feature_columns = construct_feature_columns()"
   ]
  },
  {
   "cell_type": "code",
   "execution_count": 9,
   "metadata": {},
   "outputs": [],
   "source": [
    "def make_input_fn(data_df, label_df, num_epochs=10, shuffle=True, batch_size=32):\n",
    "    def input_function():\n",
    "        ds = tf.data.Dataset.from_tensor_slices((dict(data_df), label_df))\n",
    "        if shuffle:\n",
    "            ds = ds.shuffle(1000)\n",
    "        \n",
    "        ds = ds.batch(batch_size).repeat(num_epochs)\n",
    "        return ds\n",
    "    return input_function"
   ]
  },
  {
   "cell_type": "code",
   "execution_count": 20,
   "metadata": {},
   "outputs": [],
   "source": [
    "train, test = split_shuffled(shuffled, 0.8)\n",
    "train, val = split_shuffled(train, 0.8)"
   ]
  },
  {
   "cell_type": "code",
   "execution_count": 21,
   "metadata": {},
   "outputs": [],
   "source": [
    "training_features, training_labels = preprocess(train)\n",
    "validation_features, validation_labels = preprocess(val)"
   ]
  },
  {
   "cell_type": "code",
   "execution_count": 23,
   "metadata": {},
   "outputs": [
    {
     "name": "stdout",
     "output_type": "stream",
     "text": "Some feature keys: ['gender', 'race', 'ethnicity']\n\nA batch of class: [b'female' b'female' b'male' b'female' b'female' b'male' b'male' b'male'\n b'female' b'female']\n\nA batch of Labels: [0 1 1 0 0 0 0 0 0 0]\n"
    }
   ],
   "source": [
    "ds = make_input_fn(training_features, training_labels, batch_size=10)()\n",
    "for feature_batch, label_batch in ds.take(1):\n",
    "    print('Some feature keys:', list(feature_batch.keys()))\n",
    "    print()\n",
    "    print('A batch of class:', feature_batch['gender'].numpy())\n",
    "    print()\n",
    "    print('A batch of Labels:', label_batch.numpy())"
   ]
  },
  {
   "cell_type": "code",
   "execution_count": 33,
   "metadata": {},
   "outputs": [],
   "source": [
    "train_input_fn = make_input_fn(training_features, training_labels)\n",
    "eval_input_fn = make_input_fn(validation_features, validation_labels)"
   ]
  },
  {
   "cell_type": "code",
   "execution_count": 30,
   "metadata": {},
   "outputs": [
    {
     "name": "stdout",
     "output_type": "stream",
     "text": "WARNING:tensorflow:From /home/aclifford/.local/share/virtualenvs/cancer-survival-rates-XPA78zYg/lib/python3.7/site-packages/tensorflow_core/python/feature_column/feature_column_v2.py:4267: IndicatorColumn._variable_shape (from tensorflow.python.feature_column.feature_column_v2) is deprecated and will be removed in a future version.\nInstructions for updating:\nThe old _FeatureColumn APIs are being deprecated. Please use the new FeatureColumn APIs instead.\nWARNING:tensorflow:From /home/aclifford/.local/share/virtualenvs/cancer-survival-rates-XPA78zYg/lib/python3.7/site-packages/tensorflow_core/python/feature_column/feature_column_v2.py:4322: VocabularyListCategoricalColumn._num_buckets (from tensorflow.python.feature_column.feature_column_v2) is deprecated and will be removed in a future version.\nInstructions for updating:\nThe old _FeatureColumn APIs are being deprecated. Please use the new FeatureColumn APIs instead.\n"
    },
    {
     "data": {
      "text/plain": "array([[0., 0., 0., 1., 0., 0.],\n       [1., 0., 0., 0., 0., 0.],\n       [1., 0., 0., 0., 0., 0.],\n       [1., 0., 0., 0., 0., 0.],\n       [1., 0., 0., 0., 0., 0.],\n       [0., 0., 0., 1., 0., 0.],\n       [1., 0., 0., 0., 0., 0.],\n       [1., 0., 0., 0., 0., 0.],\n       [1., 0., 0., 0., 0., 0.],\n       [1., 0., 0., 0., 0., 0.]], dtype=float32)"
     },
     "execution_count": 30,
     "metadata": {},
     "output_type": "execute_result"
    }
   ],
   "source": [
    "gender_column = list(construct_feature_columns())[1]\n",
    "tf.keras.layers.DenseFeatures([tf.feature_column.indicator_column(gender_column)])(feature_batch).numpy()\n"
   ]
  },
  {
   "cell_type": "code",
   "execution_count": 44,
   "metadata": {},
   "outputs": [
    {
     "name": "stdout",
     "output_type": "stream",
     "text": "INFO:tensorflow:Using default config.\nWARNING:tensorflow:Using temporary folder as model directory: /tmp/tmp2vfj2tds\nINFO:tensorflow:Using config: {'_model_dir': '/tmp/tmp2vfj2tds', '_tf_random_seed': None, '_save_summary_steps': 100, '_save_checkpoints_steps': None, '_save_checkpoints_secs': 600, '_session_config': allow_soft_placement: true\ngraph_options {\n  rewrite_options {\n    meta_optimizer_iterations: ONE\n  }\n}\n, '_keep_checkpoint_max': 5, '_keep_checkpoint_every_n_hours': 10000, '_log_step_count_steps': 100, '_train_distribute': None, '_device_fn': None, '_protocol': None, '_eval_distribute': None, '_experimental_distribute': None, '_experimental_max_worker_delay_secs': None, '_session_creation_timeout_secs': 7200, '_service': None, '_cluster_spec': ClusterSpec({}), '_task_type': 'worker', '_task_id': 0, '_global_id_in_cluster': 0, '_master': '', '_evaluation_master': '', '_is_chief': True, '_num_ps_replicas': 0, '_num_worker_replicas': 1}\nINFO:tensorflow:Calling model_fn.\nINFO:tensorflow:Done calling model_fn.\nINFO:tensorflow:Create CheckpointSaverHook.\nINFO:tensorflow:Graph was finalized.\nINFO:tensorflow:Running local_init_op.\nINFO:tensorflow:Done running local_init_op.\nINFO:tensorflow:Saving checkpoints for 0 into /tmp/tmp2vfj2tds/model.ckpt.\nINFO:tensorflow:loss = 0.6931472, step = 0\nINFO:tensorflow:global_step/sec: 141.526\nINFO:tensorflow:loss = 0.26395112, step = 100 (0.710 sec)\nINFO:tensorflow:global_step/sec: 330.869\nINFO:tensorflow:loss = 0.5549856, step = 200 (0.301 sec)\nINFO:tensorflow:global_step/sec: 327.879\nINFO:tensorflow:loss = 0.37226456, step = 300 (0.305 sec)\nINFO:tensorflow:global_step/sec: 378.563\nINFO:tensorflow:loss = 0.48718238, step = 400 (0.266 sec)\nINFO:tensorflow:global_step/sec: 367.135\nINFO:tensorflow:loss = 0.54553926, step = 500 (0.272 sec)\nINFO:tensorflow:global_step/sec: 272.682\nINFO:tensorflow:loss = 0.43214646, step = 600 (0.368 sec)\nINFO:tensorflow:global_step/sec: 266.486\nINFO:tensorflow:loss = 0.4393692, step = 700 (0.375 sec)\nINFO:tensorflow:global_step/sec: 369.14\nINFO:tensorflow:loss = 0.4385793, step = 800 (0.270 sec)\nINFO:tensorflow:global_step/sec: 362.59\nINFO:tensorflow:loss = 0.49293014, step = 900 (0.276 sec)\nINFO:tensorflow:global_step/sec: 337.427\nINFO:tensorflow:loss = 0.49922952, step = 1000 (0.298 sec)\nINFO:tensorflow:global_step/sec: 385.18\nINFO:tensorflow:loss = 0.60509205, step = 1100 (0.259 sec)\nINFO:tensorflow:global_step/sec: 530.946\nINFO:tensorflow:loss = 0.2734351, step = 1200 (0.188 sec)\nINFO:tensorflow:global_step/sec: 536.85\nINFO:tensorflow:loss = 0.49695116, step = 1300 (0.186 sec)\nINFO:tensorflow:global_step/sec: 542.453\nINFO:tensorflow:loss = 0.32004142, step = 1400 (0.185 sec)\nINFO:tensorflow:global_step/sec: 282.464\nINFO:tensorflow:loss = 0.37381697, step = 1500 (0.352 sec)\nINFO:tensorflow:global_step/sec: 303.326\nINFO:tensorflow:loss = 0.5435594, step = 1600 (0.332 sec)\nINFO:tensorflow:global_step/sec: 369.091\nINFO:tensorflow:loss = 0.5464695, step = 1700 (0.270 sec)\nINFO:tensorflow:global_step/sec: 410.939\nINFO:tensorflow:loss = 0.37583986, step = 1800 (0.243 sec)\nINFO:tensorflow:global_step/sec: 453.283\nINFO:tensorflow:loss = 0.6071998, step = 1900 (0.221 sec)\nINFO:tensorflow:global_step/sec: 293.093\nINFO:tensorflow:loss = 0.26430526, step = 2000 (0.341 sec)\nINFO:tensorflow:global_step/sec: 424.358\nINFO:tensorflow:loss = 0.37728804, step = 2100 (0.235 sec)\nINFO:tensorflow:global_step/sec: 293.706\nINFO:tensorflow:loss = 0.6076048, step = 2200 (0.339 sec)\nINFO:tensorflow:global_step/sec: 444.692\nINFO:tensorflow:loss = 0.319377, step = 2300 (0.225 sec)\nINFO:tensorflow:global_step/sec: 177.364\nINFO:tensorflow:loss = 0.26507163, step = 2400 (0.567 sec)\nINFO:tensorflow:global_step/sec: 332.606\nINFO:tensorflow:loss = 0.3172174, step = 2500 (0.301 sec)\nINFO:tensorflow:global_step/sec: 138.45\nINFO:tensorflow:loss = 0.37857002, step = 2600 (0.725 sec)\nINFO:tensorflow:global_step/sec: 298.767\nINFO:tensorflow:loss = 0.37894344, step = 2700 (0.330 sec)\nINFO:tensorflow:global_step/sec: 491.935\nINFO:tensorflow:loss = 0.38018233, step = 2800 (0.201 sec)\nINFO:tensorflow:global_step/sec: 554.956\nINFO:tensorflow:loss = 0.31459042, step = 2900 (0.180 sec)\nINFO:tensorflow:global_step/sec: 402.513\nINFO:tensorflow:loss = 0.49246505, step = 3000 (0.255 sec)\nINFO:tensorflow:global_step/sec: 270.046\nINFO:tensorflow:loss = 0.43762052, step = 3100 (0.367 sec)\nINFO:tensorflow:global_step/sec: 414.471\nINFO:tensorflow:loss = 0.26327837, step = 3200 (0.238 sec)\nINFO:tensorflow:global_step/sec: 479.519\nINFO:tensorflow:loss = 0.31457782, step = 3300 (0.211 sec)\nINFO:tensorflow:global_step/sec: 322.086\nINFO:tensorflow:loss = 0.43532485, step = 3400 (0.313 sec)\nINFO:tensorflow:global_step/sec: 505.752\nINFO:tensorflow:loss = 0.4375999, step = 3500 (0.193 sec)\nINFO:tensorflow:global_step/sec: 416.266\nINFO:tensorflow:loss = 0.4350711, step = 3600 (0.242 sec)\nINFO:tensorflow:global_step/sec: 446.812\nINFO:tensorflow:loss = 0.3788452, step = 3700 (0.222 sec)\nINFO:tensorflow:global_step/sec: 530.972\nINFO:tensorflow:loss = 0.5594283, step = 3800 (0.194 sec)\nINFO:tensorflow:global_step/sec: 321.538\nINFO:tensorflow:loss = 0.49509525, step = 3900 (0.306 sec)\nINFO:tensorflow:global_step/sec: 524.167\nINFO:tensorflow:loss = 0.3780427, step = 4000 (0.191 sec)\nINFO:tensorflow:global_step/sec: 507.646\nINFO:tensorflow:loss = 0.31864226, step = 4100 (0.197 sec)\nINFO:tensorflow:global_step/sec: 339.204\nINFO:tensorflow:loss = 0.43519714, step = 4200 (0.294 sec)\nINFO:tensorflow:global_step/sec: 485.369\nINFO:tensorflow:loss = 0.49326798, step = 4300 (0.207 sec)\nINFO:tensorflow:global_step/sec: 491.467\nINFO:tensorflow:loss = 0.20741138, step = 4400 (0.206 sec)\nINFO:tensorflow:global_step/sec: 478.782\nINFO:tensorflow:loss = 0.37897393, step = 4500 (0.208 sec)\nINFO:tensorflow:global_step/sec: 528.805\nINFO:tensorflow:loss = 0.37633684, step = 4600 (0.187 sec)\nINFO:tensorflow:global_step/sec: 514.829\nINFO:tensorflow:loss = 0.4931835, step = 4700 (0.194 sec)\nINFO:tensorflow:global_step/sec: 480.034\nINFO:tensorflow:loss = 0.20895502, step = 4800 (0.208 sec)\nINFO:tensorflow:global_step/sec: 508.854\nINFO:tensorflow:loss = 0.31707785, step = 4900 (0.197 sec)\nINFO:tensorflow:global_step/sec: 520.004\nINFO:tensorflow:loss = 0.37536433, step = 5000 (0.191 sec)\nINFO:tensorflow:global_step/sec: 533.722\nINFO:tensorflow:loss = 0.2075659, step = 5100 (0.187 sec)\nINFO:tensorflow:global_step/sec: 529.298\nINFO:tensorflow:loss = 0.604522, step = 5200 (0.190 sec)\nINFO:tensorflow:global_step/sec: 518.738\nINFO:tensorflow:loss = 0.5553504, step = 5300 (0.192 sec)\nINFO:tensorflow:global_step/sec: 489.579\nINFO:tensorflow:loss = 0.37730515, step = 5400 (0.205 sec)\nINFO:tensorflow:global_step/sec: 511.197\nINFO:tensorflow:loss = 0.43373987, step = 5500 (0.196 sec)\nINFO:tensorflow:global_step/sec: 523.581\nINFO:tensorflow:loss = 0.31780732, step = 5600 (0.191 sec)\nINFO:tensorflow:global_step/sec: 505.057\nINFO:tensorflow:loss = 0.32228997, step = 5700 (0.197 sec)\nINFO:tensorflow:global_step/sec: 524.19\nINFO:tensorflow:loss = 0.49475035, step = 5800 (0.191 sec)\nINFO:tensorflow:global_step/sec: 472.664\nINFO:tensorflow:loss = 0.4338683, step = 5900 (0.210 sec)\nINFO:tensorflow:global_step/sec: 508.269\nINFO:tensorflow:loss = 0.2597022, step = 6000 (0.197 sec)\nINFO:tensorflow:global_step/sec: 542.439\nINFO:tensorflow:loss = 0.37766886, step = 6100 (0.185 sec)\nINFO:tensorflow:global_step/sec: 507.723\nINFO:tensorflow:loss = 0.21525115, step = 6200 (0.197 sec)\nINFO:tensorflow:global_step/sec: 529.628\nINFO:tensorflow:loss = 0.3761767, step = 6300 (0.188 sec)\nINFO:tensorflow:global_step/sec: 490.314\nINFO:tensorflow:loss = 0.49695823, step = 6400 (0.204 sec)\nINFO:tensorflow:global_step/sec: 516.01\nINFO:tensorflow:loss = 0.31960624, step = 6500 (0.193 sec)\nINFO:tensorflow:global_step/sec: 518.717\nINFO:tensorflow:loss = 0.49318674, step = 6600 (0.193 sec)\nINFO:tensorflow:global_step/sec: 523.068\nINFO:tensorflow:loss = 0.32348734, step = 6700 (0.191 sec)\nINFO:tensorflow:global_step/sec: 390.319\nINFO:tensorflow:loss = 0.2605814, step = 6800 (0.257 sec)\nINFO:tensorflow:global_step/sec: 464.328\nINFO:tensorflow:loss = 0.3766008, step = 6900 (0.214 sec)\nINFO:tensorflow:global_step/sec: 505.924\nINFO:tensorflow:loss = 0.43455157, step = 7000 (0.199 sec)\nINFO:tensorflow:global_step/sec: 503.88\nINFO:tensorflow:loss = 0.25946856, step = 7100 (0.197 sec)\nINFO:tensorflow:global_step/sec: 514.334\nINFO:tensorflow:loss = 0.55310565, step = 7200 (0.195 sec)\nINFO:tensorflow:global_step/sec: 511.524\nINFO:tensorflow:loss = 0.32017028, step = 7300 (0.196 sec)\nINFO:tensorflow:global_step/sec: 474.273\nINFO:tensorflow:loss = 0.2657454, step = 7400 (0.210 sec)\nINFO:tensorflow:global_step/sec: 491.69\nINFO:tensorflow:loss = 0.3201265, step = 7500 (0.204 sec)\nINFO:tensorflow:global_step/sec: 513.611\nINFO:tensorflow:loss = 0.37698436, step = 7600 (0.194 sec)\nINFO:tensorflow:Saving checkpoints for 7630 into /tmp/tmp2vfj2tds/model.ckpt.\nINFO:tensorflow:Loss for final step: 0.33079126.\nINFO:tensorflow:Calling model_fn.\nINFO:tensorflow:Done calling model_fn.\nINFO:tensorflow:Starting evaluation at 2020-01-19T19:41:26Z\nINFO:tensorflow:Graph was finalized.\nINFO:tensorflow:Restoring parameters from /tmp/tmp2vfj2tds/model.ckpt-7630\nINFO:tensorflow:Running local_init_op.\nINFO:tensorflow:Done running local_init_op.\nINFO:tensorflow:Inference Time : 4.86396s\nINFO:tensorflow:Finished evaluation at 2020-01-19-19:41:31\nINFO:tensorflow:Saving dict for global step 7630: accuracy = 0.8680544, accuracy_baseline = 0.8680544, auc = 0.4976343, auc_precision_recall = 0.13086577, average_loss = 0.39013135, global_step = 7630, label/mean = 0.13194558, loss = 0.39013496, precision = 0.0, prediction/mean = 0.13191167, recall = 0.0\nINFO:tensorflow:Saving 'checkpoint_path' summary for global step 7630: /tmp/tmp2vfj2tds/model.ckpt-7630\n{'accuracy': 0.8680544, 'accuracy_baseline': 0.8680544, 'auc': 0.4976343, 'auc_precision_recall': 0.13086577, 'average_loss': 0.39013135, 'label/mean': 0.13194558, 'loss': 0.39013496, 'precision': 0.0, 'prediction/mean': 0.13191167, 'recall': 0.0, 'global_step': 7630}\n"
    }
   ],
   "source": [
    "linear_est = tf.estimator.LinearClassifier(feature_columns=feature_columns)\n",
    "linear_est.train(train_input_fn)\n",
    "result = linear_est.evaluate(eval_input_fn)\n",
    "\n",
    "print(result)"
   ]
  },
  {
   "cell_type": "code",
   "execution_count": 36,
   "metadata": {},
   "outputs": [],
   "source": [
    "all_cross_column = tf.feature_column.crossed_column(['race', 'ethnicity', 'gender'], hash_bucket_size=100)\n",
    "background_column = tf.feature_column.crossed_column(['race', 'ethnicity'], hash_bucket_size=100)\n",
    "derived_columns = [all_cross_column, background_column]"
   ]
  },
  {
   "cell_type": "code",
   "execution_count": 39,
   "metadata": {},
   "outputs": [],
   "source": [
    "def learn_machine(train_fn, eval_fn, columns):\n",
    "    liner_est = tf.estimator.LinearClassifier(feature_columns=columns)\n",
    "    liner_est.train(train_fn)\n",
    "    reslt = liner_est.evaluate(eval_fn)\n",
    "\n",
    "    print(reslt)\n"
   ]
  },
  {
   "cell_type": "code",
   "execution_count": 40,
   "metadata": {},
   "outputs": [
    {
     "name": "stdout",
     "output_type": "stream",
     "text": "INFO:tensorflow:Using default config.\nWARNING:tensorflow:Using temporary folder as model directory: /tmp/tmp9hs5hh_f\nINFO:tensorflow:Using config: {'_model_dir': '/tmp/tmp9hs5hh_f', '_tf_random_seed': None, '_save_summary_steps': 100, '_save_checkpoints_steps': None, '_save_checkpoints_secs': 600, '_session_config': allow_soft_placement: true\ngraph_options {\n  rewrite_options {\n    meta_optimizer_iterations: ONE\n  }\n}\n, '_keep_checkpoint_max': 5, '_keep_checkpoint_every_n_hours': 10000, '_log_step_count_steps': 100, '_train_distribute': None, '_device_fn': None, '_protocol': None, '_eval_distribute': None, '_experimental_distribute': None, '_experimental_max_worker_delay_secs': None, '_session_creation_timeout_secs': 7200, '_service': None, '_cluster_spec': ClusterSpec({}), '_task_type': 'worker', '_task_id': 0, '_global_id_in_cluster': 0, '_master': '', '_evaluation_master': '', '_is_chief': True, '_num_ps_replicas': 0, '_num_worker_replicas': 1}\nINFO:tensorflow:Calling model_fn.\nINFO:tensorflow:Done calling model_fn.\nINFO:tensorflow:Create CheckpointSaverHook.\nINFO:tensorflow:Graph was finalized.\nINFO:tensorflow:Running local_init_op.\nINFO:tensorflow:Done running local_init_op.\nINFO:tensorflow:Saving checkpoints for 0 into /tmp/tmp9hs5hh_f/model.ckpt.\nINFO:tensorflow:loss = 0.6931472, step = 0\nINFO:tensorflow:global_step/sec: 123.332\nINFO:tensorflow:loss = 0.28022212, step = 100 (0.813 sec)\nINFO:tensorflow:global_step/sec: 287.01\nINFO:tensorflow:loss = 0.5623793, step = 200 (0.350 sec)\nINFO:tensorflow:global_step/sec: 322.176\nINFO:tensorflow:loss = 0.47767144, step = 300 (0.310 sec)\nINFO:tensorflow:global_step/sec: 301.46\nINFO:tensorflow:loss = 0.2819199, step = 400 (0.330 sec)\nINFO:tensorflow:global_step/sec: 303.102\nINFO:tensorflow:loss = 0.6231754, step = 500 (0.332 sec)\nINFO:tensorflow:global_step/sec: 326.668\nINFO:tensorflow:loss = 0.3367223, step = 600 (0.306 sec)\nINFO:tensorflow:global_step/sec: 316.431\nINFO:tensorflow:loss = 0.6034695, step = 700 (0.316 sec)\nINFO:tensorflow:global_step/sec: 306.057\nINFO:tensorflow:loss = 0.4958434, step = 800 (0.326 sec)\nINFO:tensorflow:global_step/sec: 315.048\nINFO:tensorflow:loss = 0.48545516, step = 900 (0.317 sec)\nINFO:tensorflow:global_step/sec: 311.82\nINFO:tensorflow:loss = 0.30969545, step = 1000 (0.321 sec)\nINFO:tensorflow:global_step/sec: 295.029\nINFO:tensorflow:loss = 0.37886667, step = 1100 (0.339 sec)\nINFO:tensorflow:global_step/sec: 472.94\nINFO:tensorflow:loss = 0.37850785, step = 1200 (0.210 sec)\nINFO:tensorflow:global_step/sec: 477.747\nINFO:tensorflow:loss = 0.3748651, step = 1300 (0.210 sec)\nINFO:tensorflow:global_step/sec: 467.279\nINFO:tensorflow:loss = 0.25960112, step = 1400 (0.214 sec)\nINFO:tensorflow:global_step/sec: 462.657\nINFO:tensorflow:loss = 0.31623262, step = 1500 (0.217 sec)\nINFO:tensorflow:global_step/sec: 433.51\nINFO:tensorflow:loss = 0.26051188, step = 1600 (0.230 sec)\nINFO:tensorflow:global_step/sec: 458.252\nINFO:tensorflow:loss = 0.32042015, step = 1700 (0.218 sec)\nINFO:tensorflow:global_step/sec: 465.312\nINFO:tensorflow:loss = 0.6024262, step = 1800 (0.216 sec)\nINFO:tensorflow:global_step/sec: 459.514\nINFO:tensorflow:loss = 0.3214727, step = 1900 (0.218 sec)\nINFO:tensorflow:global_step/sec: 435.747\nINFO:tensorflow:loss = 0.5017253, step = 2000 (0.229 sec)\nINFO:tensorflow:global_step/sec: 471.976\nINFO:tensorflow:loss = 0.43060586, step = 2100 (0.211 sec)\nINFO:tensorflow:global_step/sec: 479.326\nINFO:tensorflow:loss = 0.32192537, step = 2200 (0.208 sec)\nINFO:tensorflow:global_step/sec: 477.402\nINFO:tensorflow:loss = 0.38031402, step = 2300 (0.211 sec)\nINFO:tensorflow:global_step/sec: 458.743\nINFO:tensorflow:loss = 0.43828085, step = 2400 (0.218 sec)\nINFO:tensorflow:global_step/sec: 407.653\nINFO:tensorflow:loss = 0.61154544, step = 2500 (0.245 sec)\nINFO:tensorflow:global_step/sec: 455.354\nINFO:tensorflow:loss = 0.37382352, step = 2600 (0.221 sec)\nINFO:tensorflow:global_step/sec: 460.359\nINFO:tensorflow:loss = 0.37494937, step = 2700 (0.215 sec)\nINFO:tensorflow:global_step/sec: 451.899\nINFO:tensorflow:loss = 0.37660533, step = 2800 (0.221 sec)\nINFO:tensorflow:global_step/sec: 450.486\nINFO:tensorflow:loss = 0.32404086, step = 2900 (0.224 sec)\nINFO:tensorflow:global_step/sec: 443.782\nINFO:tensorflow:loss = 0.485932, step = 3000 (0.225 sec)\nINFO:tensorflow:global_step/sec: 480.597\nINFO:tensorflow:loss = 0.43577868, step = 3100 (0.207 sec)\nINFO:tensorflow:global_step/sec: 471.38\nINFO:tensorflow:loss = 0.21969411, step = 3200 (0.212 sec)\nINFO:tensorflow:global_step/sec: 450.584\nINFO:tensorflow:loss = 0.25634527, step = 3300 (0.222 sec)\nINFO:tensorflow:global_step/sec: 434.267\nINFO:tensorflow:loss = 0.26892027, step = 3400 (0.230 sec)\nINFO:tensorflow:global_step/sec: 452.522\nINFO:tensorflow:loss = 0.6653123, step = 3500 (0.222 sec)\nINFO:tensorflow:global_step/sec: 466.504\nINFO:tensorflow:loss = 0.5426341, step = 3600 (0.214 sec)\nINFO:tensorflow:global_step/sec: 436.915\nINFO:tensorflow:loss = 0.37682733, step = 3700 (0.229 sec)\nINFO:tensorflow:global_step/sec: 470.457\nINFO:tensorflow:loss = 0.32144642, step = 3800 (0.212 sec)\nINFO:tensorflow:global_step/sec: 407.292\nINFO:tensorflow:loss = 0.3792379, step = 3900 (0.245 sec)\nINFO:tensorflow:global_step/sec: 470.263\nINFO:tensorflow:loss = 0.5508509, step = 4000 (0.212 sec)\nINFO:tensorflow:global_step/sec: 463.42\nINFO:tensorflow:loss = 0.25804174, step = 4100 (0.217 sec)\nINFO:tensorflow:global_step/sec: 455.508\nINFO:tensorflow:loss = 0.38634628, step = 4200 (0.220 sec)\nINFO:tensorflow:global_step/sec: 421.224\nINFO:tensorflow:loss = 0.43676892, step = 4300 (0.237 sec)\nINFO:tensorflow:global_step/sec: 468.446\nINFO:tensorflow:loss = 0.37316602, step = 4400 (0.214 sec)\nINFO:tensorflow:global_step/sec: 455.977\nINFO:tensorflow:loss = 0.36921138, step = 4500 (0.218 sec)\nINFO:tensorflow:global_step/sec: 478.948\nINFO:tensorflow:loss = 0.26339084, step = 4600 (0.211 sec)\nINFO:tensorflow:global_step/sec: 428.751\nINFO:tensorflow:loss = 0.485082, step = 4700 (0.232 sec)\nINFO:tensorflow:global_step/sec: 421.671\nINFO:tensorflow:loss = 0.3777724, step = 4800 (0.237 sec)\nINFO:tensorflow:global_step/sec: 475.648\nINFO:tensorflow:loss = 0.37767428, step = 4900 (0.209 sec)\nINFO:tensorflow:global_step/sec: 460.315\nINFO:tensorflow:loss = 0.3240115, step = 5000 (0.218 sec)\nINFO:tensorflow:global_step/sec: 447.289\nINFO:tensorflow:loss = 0.5417621, step = 5100 (0.224 sec)\nINFO:tensorflow:global_step/sec: 423.01\nINFO:tensorflow:loss = 0.3839844, step = 5200 (0.237 sec)\nINFO:tensorflow:global_step/sec: 466.68\nINFO:tensorflow:loss = 0.43407315, step = 5300 (0.214 sec)\nINFO:tensorflow:global_step/sec: 483.351\nINFO:tensorflow:loss = 0.31976688, step = 5400 (0.206 sec)\nINFO:tensorflow:global_step/sec: 450.818\nINFO:tensorflow:loss = 0.55029666, step = 5500 (0.224 sec)\nINFO:tensorflow:global_step/sec: 444.707\nINFO:tensorflow:loss = 0.3764997, step = 5600 (0.224 sec)\nINFO:tensorflow:global_step/sec: 420.265\nINFO:tensorflow:loss = 0.37692666, step = 5700 (0.237 sec)\nINFO:tensorflow:global_step/sec: 385.965\nINFO:tensorflow:loss = 0.26188114, step = 5800 (0.260 sec)\nINFO:tensorflow:global_step/sec: 469.813\nINFO:tensorflow:loss = 0.6076135, step = 5900 (0.213 sec)\nINFO:tensorflow:global_step/sec: 451.568\nINFO:tensorflow:loss = 0.4396078, step = 6000 (0.222 sec)\nINFO:tensorflow:global_step/sec: 436.512\nINFO:tensorflow:loss = 0.31973585, step = 6100 (0.229 sec)\nINFO:tensorflow:global_step/sec: 459.566\nINFO:tensorflow:loss = 0.4927091, step = 6200 (0.218 sec)\nINFO:tensorflow:global_step/sec: 455.164\nINFO:tensorflow:loss = 0.38115636, step = 6300 (0.218 sec)\nINFO:tensorflow:global_step/sec: 465.607\nINFO:tensorflow:loss = 0.31466806, step = 6400 (0.216 sec)\nINFO:tensorflow:global_step/sec: 457.357\nINFO:tensorflow:loss = 0.43402112, step = 6500 (0.218 sec)\nINFO:tensorflow:global_step/sec: 441.445\nINFO:tensorflow:loss = 0.4883638, step = 6600 (0.226 sec)\nINFO:tensorflow:global_step/sec: 460.199\nINFO:tensorflow:loss = 0.60965323, step = 6700 (0.218 sec)\nINFO:tensorflow:global_step/sec: 461.933\nINFO:tensorflow:loss = 0.43942794, step = 6800 (0.215 sec)\nINFO:tensorflow:global_step/sec: 477.436\nINFO:tensorflow:loss = 0.5537489, step = 6900 (0.211 sec)\nINFO:tensorflow:global_step/sec: 445.147\nINFO:tensorflow:loss = 0.37701148, step = 7000 (0.224 sec)\nINFO:tensorflow:global_step/sec: 417.934\nINFO:tensorflow:loss = 0.48905152, step = 7100 (0.240 sec)\nINFO:tensorflow:global_step/sec: 459.739\nINFO:tensorflow:loss = 0.5530841, step = 7200 (0.218 sec)\nINFO:tensorflow:global_step/sec: 461.471\nINFO:tensorflow:loss = 0.43099296, step = 7300 (0.217 sec)\nINFO:tensorflow:global_step/sec: 431.665\nINFO:tensorflow:loss = 0.26117897, step = 7400 (0.232 sec)\nINFO:tensorflow:global_step/sec: 431.317\nINFO:tensorflow:loss = 0.20140351, step = 7500 (0.231 sec)\nINFO:tensorflow:global_step/sec: 470.257\nINFO:tensorflow:loss = 0.31469393, step = 7600 (0.213 sec)\nINFO:tensorflow:Saving checkpoints for 7630 into /tmp/tmp9hs5hh_f/model.ckpt.\nINFO:tensorflow:Loss for final step: 0.32878238.\nINFO:tensorflow:Calling model_fn.\nINFO:tensorflow:Done calling model_fn.\nINFO:tensorflow:Starting evaluation at 2020-01-19T19:25:03Z\nINFO:tensorflow:Graph was finalized.\nINFO:tensorflow:Restoring parameters from /tmp/tmp9hs5hh_f/model.ckpt-7630\nINFO:tensorflow:Running local_init_op.\nINFO:tensorflow:Done running local_init_op.\nINFO:tensorflow:Inference Time : 5.63128s\nINFO:tensorflow:Finished evaluation at 2020-01-19-19:25:09\nINFO:tensorflow:Saving dict for global step 7630: accuracy = 0.8680544, accuracy_baseline = 0.8680544, auc = 0.5098279, auc_precision_recall = 0.13474746, average_loss = 0.39024016, global_step = 7630, label/mean = 0.13194558, loss = 0.39026383, precision = 0.0, prediction/mean = 0.13254686, recall = 0.0\nINFO:tensorflow:Saving 'checkpoint_path' summary for global step 7630: /tmp/tmp9hs5hh_f/model.ckpt-7630\n{'accuracy': 0.8680544, 'accuracy_baseline': 0.8680544, 'auc': 0.5098279, 'auc_precision_recall': 0.13474746, 'average_loss': 0.39024016, 'label/mean': 0.13194558, 'loss': 0.39026383, 'precision': 0.0, 'prediction/mean': 0.13254686, 'recall': 0.0, 'global_step': 7630}\n"
    }
   ],
   "source": [
    "learn_machine(train_input_fn, eval_input_fn, feature_columns + derived_columns)"
   ]
  },
  {
   "cell_type": "code",
   "execution_count": 45,
   "metadata": {},
   "outputs": [
    {
     "name": "stdout",
     "output_type": "stream",
     "text": "INFO:tensorflow:Calling model_fn.\nINFO:tensorflow:Done calling model_fn.\nINFO:tensorflow:Graph was finalized.\nINFO:tensorflow:Restoring parameters from /tmp/tmp2vfj2tds/model.ckpt-7630\nINFO:tensorflow:Running local_init_op.\nINFO:tensorflow:Done running local_init_op.\n"
    },
    {
     "data": {
      "text/plain": "<matplotlib.axes._subplots.AxesSubplot at 0x7f1513e11ad0>"
     },
     "execution_count": 45,
     "metadata": {},
     "output_type": "execute_result"
    },
    {
     "data": {
      "image/png": "[encoded data removed]",
      "image/svg+xml": "<?xml version=\"1.0\" encoding=\"utf-8\" standalone=\"no\"?>\n<!DOCTYPE svg PUBLIC \"-//W3C//DTD SVG 1.1//EN\"\n  \"http://www.w3.org/Graphics/SVG/1.1/DTD/svg11.dtd\">\n<!-- Created with matplotlib (https://matplotlib.org/) -->\n<svg height=\"263.63625pt\" version=\"1.1\" viewBox=\"0 0 401.690625 263.63625\" width=\"401.690625pt\" xmlns=\"http://www.w3.org/2000/svg\" xmlns:xlink=\"http://www.w3.org/1999/xlink\">\n <defs>\n  <style type=\"text/css\">\n*{stroke-linecap:butt;stroke-linejoin:round;}\n  </style>\n </defs>\n <g id=\"figure_1\">\n  <g id=\"patch_1\">\n   <path d=\"M 0 263.63625 \nL 401.690625 263.63625 \nL 401.690625 0 \nL 0 0 \nz\n\" style=\"fill:none;\"/>\n  </g>\n  <g id=\"axes_1\">\n   <g id=\"patch_2\">\n    <path d=\"M 59.690625 239.758125 \nL 394.490625 239.758125 \nL 394.490625 22.318125 \nL 59.690625 22.318125 \nz\n\" style=\"fill:#ffffff;\"/>\n   </g>\n   <g id=\"patch_3\">\n    <path clip-path=\"url(#pfc88174c97)\" d=\"M 74.908807 239.758125 \nL 90.126989 239.758125 \nL 90.126989 238.888322 \nL 74.908807 238.888322 \nz\n\" style=\"fill:#1f77b4;\"/>\n   </g>\n   <g id=\"patch_4\">\n    <path clip-path=\"url(#pfc88174c97)\" d=\"M 90.126989 239.758125 \nL 105.34517 239.758125 \nL 105.34517 239.758125 \nL 90.126989 239.758125 \nz\n\" style=\"fill:#1f77b4;\"/>\n   </g>\n   <g id=\"patch_5\">\n    <path clip-path=\"url(#pfc88174c97)\" d=\"M 105.34517 239.758125 \nL 120.563352 239.758125 \nL 120.563352 239.758125 \nL 105.34517 239.758125 \nz\n\" style=\"fill:#1f77b4;\"/>\n   </g>\n   <g id=\"patch_6\">\n    <path clip-path=\"url(#pfc88174c97)\" d=\"M 120.563352 239.758125 \nL 135.781534 239.758125 \nL 135.781534 239.758125 \nL 120.563352 239.758125 \nz\n\" style=\"fill:#1f77b4;\"/>\n   </g>\n   <g id=\"patch_7\">\n    <path clip-path=\"url(#pfc88174c97)\" d=\"M 135.781534 239.758125 \nL 150.999716 239.758125 \nL 150.999716 239.758125 \nL 135.781534 239.758125 \nz\n\" style=\"fill:#1f77b4;\"/>\n   </g>\n   <g id=\"patch_8\">\n    <path clip-path=\"url(#pfc88174c97)\" d=\"M 150.999716 239.758125 \nL 166.217898 239.758125 \nL 166.217898 239.758125 \nL 150.999716 239.758125 \nz\n\" style=\"fill:#1f77b4;\"/>\n   </g>\n   <g id=\"patch_9\">\n    <path clip-path=\"url(#pfc88174c97)\" d=\"M 166.217898 239.758125 \nL 181.43608 239.758125 \nL 181.43608 239.540674 \nL 166.217898 239.540674 \nz\n\" style=\"fill:#1f77b4;\"/>\n   </g>\n   <g id=\"patch_10\">\n    <path clip-path=\"url(#pfc88174c97)\" d=\"M 181.43608 239.758125 \nL 196.654261 239.758125 \nL 196.654261 222.362055 \nL 181.43608 222.362055 \nz\n\" style=\"fill:#1f77b4;\"/>\n   </g>\n   <g id=\"patch_11\">\n    <path clip-path=\"url(#pfc88174c97)\" d=\"M 196.654261 239.758125 \nL 211.872443 239.758125 \nL 211.872443 32.672411 \nL 196.654261 32.672411 \nz\n\" style=\"fill:#1f77b4;\"/>\n   </g>\n   <g id=\"patch_12\">\n    <path clip-path=\"url(#pfc88174c97)\" d=\"M 211.872443 239.758125 \nL 227.090625 239.758125 \nL 227.090625 52.967825 \nL 211.872443 52.967825 \nz\n\" style=\"fill:#1f77b4;\"/>\n   </g>\n   <g id=\"patch_13\">\n    <path clip-path=\"url(#pfc88174c97)\" d=\"M 227.090625 239.758125 \nL 242.308807 239.758125 \nL 242.308807 227.508393 \nL 227.090625 227.508393 \nz\n\" style=\"fill:#1f77b4;\"/>\n   </g>\n   <g id=\"patch_14\">\n    <path clip-path=\"url(#pfc88174c97)\" d=\"M 242.308807 239.758125 \nL 257.526989 239.758125 \nL 257.526989 228.233229 \nL 242.308807 228.233229 \nz\n\" style=\"fill:#1f77b4;\"/>\n   </g>\n   <g id=\"patch_15\">\n    <path clip-path=\"url(#pfc88174c97)\" d=\"M 257.526989 239.758125 \nL 272.74517 239.758125 \nL 272.74517 237.076231 \nL 257.526989 237.076231 \nz\n\" style=\"fill:#1f77b4;\"/>\n   </g>\n   <g id=\"patch_16\">\n    <path clip-path=\"url(#pfc88174c97)\" d=\"M 272.74517 239.758125 \nL 287.963352 239.758125 \nL 287.963352 237.6561 \nL 272.74517 237.6561 \nz\n\" style=\"fill:#1f77b4;\"/>\n   </g>\n   <g id=\"patch_17\">\n    <path clip-path=\"url(#pfc88174c97)\" d=\"M 287.963352 239.758125 \nL 303.181534 239.758125 \nL 303.181534 239.758125 \nL 287.963352 239.758125 \nz\n\" style=\"fill:#1f77b4;\"/>\n   </g>\n   <g id=\"patch_18\">\n    <path clip-path=\"url(#pfc88174c97)\" d=\"M 303.181534 239.758125 \nL 318.399716 239.758125 \nL 318.399716 239.685641 \nL 303.181534 239.685641 \nz\n\" style=\"fill:#1f77b4;\"/>\n   </g>\n   <g id=\"patch_19\">\n    <path clip-path=\"url(#pfc88174c97)\" d=\"M 318.399716 239.758125 \nL 333.617898 239.758125 \nL 333.617898 239.178256 \nL 318.399716 239.178256 \nz\n\" style=\"fill:#1f77b4;\"/>\n   </g>\n   <g id=\"patch_20\">\n    <path clip-path=\"url(#pfc88174c97)\" d=\"M 333.617898 239.758125 \nL 348.83608 239.758125 \nL 348.83608 239.178256 \nL 333.617898 239.178256 \nz\n\" style=\"fill:#1f77b4;\"/>\n   </g>\n   <g id=\"patch_21\">\n    <path clip-path=\"url(#pfc88174c97)\" d=\"M 348.83608 239.758125 \nL 364.054261 239.758125 \nL 364.054261 239.758125 \nL 348.83608 239.758125 \nz\n\" style=\"fill:#1f77b4;\"/>\n   </g>\n   <g id=\"patch_22\">\n    <path clip-path=\"url(#pfc88174c97)\" d=\"M 364.054261 239.758125 \nL 379.272443 239.758125 \nL 379.272443 239.685641 \nL 364.054261 239.685641 \nz\n\" style=\"fill:#1f77b4;\"/>\n   </g>\n   <g id=\"matplotlib.axis_1\">\n    <g id=\"xtick_1\">\n     <g id=\"line2d_1\">\n      <defs>\n       <path d=\"M 0 0 \nL 0 3.5 \n\" id=\"me85baecf0f\" style=\"stroke:#000000;stroke-width:0.8;\"/>\n      </defs>\n      <g>\n       <use style=\"stroke:#000000;stroke-width:0.8;\" x=\"97.304939\" xlink:href=\"#me85baecf0f\" y=\"239.758125\"/>\n      </g>\n     </g>\n     <g id=\"text_1\">\n      <!-- 0.10 -->\n      <defs>\n       <path d=\"M 31.78125 66.40625 \nQ 24.171875 66.40625 20.328125 58.90625 \nQ 16.5 51.421875 16.5 36.375 \nQ 16.5 21.390625 20.328125 13.890625 \nQ 24.171875 6.390625 31.78125 6.390625 \nQ 39.453125 6.390625 43.28125 13.890625 \nQ 47.125 21.390625 47.125 36.375 \nQ 47.125 51.421875 43.28125 58.90625 \nQ 39.453125 66.40625 31.78125 66.40625 \nz\nM 31.78125 74.21875 \nQ 44.046875 74.21875 50.515625 64.515625 \nQ 56.984375 54.828125 56.984375 36.375 \nQ 56.984375 17.96875 50.515625 8.265625 \nQ 44.046875 -1.421875 31.78125 -1.421875 \nQ 19.53125 -1.421875 13.0625 8.265625 \nQ 6.59375 17.96875 6.59375 36.375 \nQ 6.59375 54.828125 13.0625 64.515625 \nQ 19.53125 74.21875 31.78125 74.21875 \nz\n\" id=\"DejaVuSans-48\"/>\n       <path d=\"M 10.6875 12.40625 \nL 21 12.40625 \nL 21 0 \nL 10.6875 0 \nz\n\" id=\"DejaVuSans-46\"/>\n       <path d=\"M 12.40625 8.296875 \nL 28.515625 8.296875 \nL 28.515625 63.921875 \nL 10.984375 60.40625 \nL 10.984375 69.390625 \nL 28.421875 72.90625 \nL 38.28125 72.90625 \nL 38.28125 8.296875 \nL 54.390625 8.296875 \nL 54.390625 0 \nL 12.40625 0 \nz\n\" id=\"DejaVuSans-49\"/>\n      </defs>\n      <g transform=\"translate(86.172127 254.356563)scale(0.1 -0.1)\">\n       <use xlink:href=\"#DejaVuSans-48\"/>\n       <use x=\"63.623047\" xlink:href=\"#DejaVuSans-46\"/>\n       <use x=\"95.410156\" xlink:href=\"#DejaVuSans-49\"/>\n       <use x=\"159.033203\" xlink:href=\"#DejaVuSans-48\"/>\n      </g>\n     </g>\n    </g>\n    <g id=\"xtick_2\">\n     <g id=\"line2d_2\">\n      <g>\n       <use style=\"stroke:#000000;stroke-width:0.8;\" x=\"166.67367\" xlink:href=\"#me85baecf0f\" y=\"239.758125\"/>\n      </g>\n     </g>\n     <g id=\"text_2\">\n      <!-- 0.12 -->\n      <defs>\n       <path d=\"M 19.1875 8.296875 \nL 53.609375 8.296875 \nL 53.609375 0 \nL 7.328125 0 \nL 7.328125 8.296875 \nQ 12.9375 14.109375 22.625 23.890625 \nQ 32.328125 33.6875 34.8125 36.53125 \nQ 39.546875 41.84375 41.421875 45.53125 \nQ 43.3125 49.21875 43.3125 52.78125 \nQ 43.3125 58.59375 39.234375 62.25 \nQ 35.15625 65.921875 28.609375 65.921875 \nQ 23.96875 65.921875 18.8125 64.3125 \nQ 13.671875 62.703125 7.8125 59.421875 \nL 7.8125 69.390625 \nQ 13.765625 71.78125 18.9375 73 \nQ 24.125 74.21875 28.421875 74.21875 \nQ 39.75 74.21875 46.484375 68.546875 \nQ 53.21875 62.890625 53.21875 53.421875 \nQ 53.21875 48.921875 51.53125 44.890625 \nQ 49.859375 40.875 45.40625 35.40625 \nQ 44.1875 33.984375 37.640625 27.21875 \nQ 31.109375 20.453125 19.1875 8.296875 \nz\n\" id=\"DejaVuSans-50\"/>\n      </defs>\n      <g transform=\"translate(155.540857 254.356563)scale(0.1 -0.1)\">\n       <use xlink:href=\"#DejaVuSans-48\"/>\n       <use x=\"63.623047\" xlink:href=\"#DejaVuSans-46\"/>\n       <use x=\"95.410156\" xlink:href=\"#DejaVuSans-49\"/>\n       <use x=\"159.033203\" xlink:href=\"#DejaVuSans-50\"/>\n      </g>\n     </g>\n    </g>\n    <g id=\"xtick_3\">\n     <g id=\"line2d_3\">\n      <g>\n       <use style=\"stroke:#000000;stroke-width:0.8;\" x=\"236.0424\" xlink:href=\"#me85baecf0f\" y=\"239.758125\"/>\n      </g>\n     </g>\n     <g id=\"text_3\">\n      <!-- 0.14 -->\n      <defs>\n       <path d=\"M 37.796875 64.3125 \nL 12.890625 25.390625 \nL 37.796875 25.390625 \nz\nM 35.203125 72.90625 \nL 47.609375 72.90625 \nL 47.609375 25.390625 \nL 58.015625 25.390625 \nL 58.015625 17.1875 \nL 47.609375 17.1875 \nL 47.609375 0 \nL 37.796875 0 \nL 37.796875 17.1875 \nL 4.890625 17.1875 \nL 4.890625 26.703125 \nz\n\" id=\"DejaVuSans-52\"/>\n      </defs>\n      <g transform=\"translate(224.909588 254.356563)scale(0.1 -0.1)\">\n       <use xlink:href=\"#DejaVuSans-48\"/>\n       <use x=\"63.623047\" xlink:href=\"#DejaVuSans-46\"/>\n       <use x=\"95.410156\" xlink:href=\"#DejaVuSans-49\"/>\n       <use x=\"159.033203\" xlink:href=\"#DejaVuSans-52\"/>\n      </g>\n     </g>\n    </g>\n    <g id=\"xtick_4\">\n     <g id=\"line2d_4\">\n      <g>\n       <use style=\"stroke:#000000;stroke-width:0.8;\" x=\"305.411131\" xlink:href=\"#me85baecf0f\" y=\"239.758125\"/>\n      </g>\n     </g>\n     <g id=\"text_4\">\n      <!-- 0.16 -->\n      <defs>\n       <path d=\"M 33.015625 40.375 \nQ 26.375 40.375 22.484375 35.828125 \nQ 18.609375 31.296875 18.609375 23.390625 \nQ 18.609375 15.53125 22.484375 10.953125 \nQ 26.375 6.390625 33.015625 6.390625 \nQ 39.65625 6.390625 43.53125 10.953125 \nQ 47.40625 15.53125 47.40625 23.390625 \nQ 47.40625 31.296875 43.53125 35.828125 \nQ 39.65625 40.375 33.015625 40.375 \nz\nM 52.59375 71.296875 \nL 52.59375 62.3125 \nQ 48.875 64.0625 45.09375 64.984375 \nQ 41.3125 65.921875 37.59375 65.921875 \nQ 27.828125 65.921875 22.671875 59.328125 \nQ 17.53125 52.734375 16.796875 39.40625 \nQ 19.671875 43.65625 24.015625 45.921875 \nQ 28.375 48.1875 33.59375 48.1875 \nQ 44.578125 48.1875 50.953125 41.515625 \nQ 57.328125 34.859375 57.328125 23.390625 \nQ 57.328125 12.15625 50.6875 5.359375 \nQ 44.046875 -1.421875 33.015625 -1.421875 \nQ 20.359375 -1.421875 13.671875 8.265625 \nQ 6.984375 17.96875 6.984375 36.375 \nQ 6.984375 53.65625 15.1875 63.9375 \nQ 23.390625 74.21875 37.203125 74.21875 \nQ 40.921875 74.21875 44.703125 73.484375 \nQ 48.484375 72.75 52.59375 71.296875 \nz\n\" id=\"DejaVuSans-54\"/>\n      </defs>\n      <g transform=\"translate(294.278319 254.356563)scale(0.1 -0.1)\">\n       <use xlink:href=\"#DejaVuSans-48\"/>\n       <use x=\"63.623047\" xlink:href=\"#DejaVuSans-46\"/>\n       <use x=\"95.410156\" xlink:href=\"#DejaVuSans-49\"/>\n       <use x=\"159.033203\" xlink:href=\"#DejaVuSans-54\"/>\n      </g>\n     </g>\n    </g>\n    <g id=\"xtick_5\">\n     <g id=\"line2d_5\">\n      <g>\n       <use style=\"stroke:#000000;stroke-width:0.8;\" x=\"374.779862\" xlink:href=\"#me85baecf0f\" y=\"239.758125\"/>\n      </g>\n     </g>\n     <g id=\"text_5\">\n      <!-- 0.18 -->\n      <defs>\n       <path d=\"M 31.78125 34.625 \nQ 24.75 34.625 20.71875 30.859375 \nQ 16.703125 27.09375 16.703125 20.515625 \nQ 16.703125 13.921875 20.71875 10.15625 \nQ 24.75 6.390625 31.78125 6.390625 \nQ 38.8125 6.390625 42.859375 10.171875 \nQ 46.921875 13.96875 46.921875 20.515625 \nQ 46.921875 27.09375 42.890625 30.859375 \nQ 38.875 34.625 31.78125 34.625 \nz\nM 21.921875 38.8125 \nQ 15.578125 40.375 12.03125 44.71875 \nQ 8.5 49.078125 8.5 55.328125 \nQ 8.5 64.0625 14.71875 69.140625 \nQ 20.953125 74.21875 31.78125 74.21875 \nQ 42.671875 74.21875 48.875 69.140625 \nQ 55.078125 64.0625 55.078125 55.328125 \nQ 55.078125 49.078125 51.53125 44.71875 \nQ 48 40.375 41.703125 38.8125 \nQ 48.828125 37.15625 52.796875 32.3125 \nQ 56.78125 27.484375 56.78125 20.515625 \nQ 56.78125 9.90625 50.3125 4.234375 \nQ 43.84375 -1.421875 31.78125 -1.421875 \nQ 19.734375 -1.421875 13.25 4.234375 \nQ 6.78125 9.90625 6.78125 20.515625 \nQ 6.78125 27.484375 10.78125 32.3125 \nQ 14.796875 37.15625 21.921875 38.8125 \nz\nM 18.3125 54.390625 \nQ 18.3125 48.734375 21.84375 45.5625 \nQ 25.390625 42.390625 31.78125 42.390625 \nQ 38.140625 42.390625 41.71875 45.5625 \nQ 45.3125 48.734375 45.3125 54.390625 \nQ 45.3125 60.0625 41.71875 63.234375 \nQ 38.140625 66.40625 31.78125 66.40625 \nQ 25.390625 66.40625 21.84375 63.234375 \nQ 18.3125 60.0625 18.3125 54.390625 \nz\n\" id=\"DejaVuSans-56\"/>\n      </defs>\n      <g transform=\"translate(363.647049 254.356563)scale(0.1 -0.1)\">\n       <use xlink:href=\"#DejaVuSans-48\"/>\n       <use x=\"63.623047\" xlink:href=\"#DejaVuSans-46\"/>\n       <use x=\"95.410156\" xlink:href=\"#DejaVuSans-49\"/>\n       <use x=\"159.033203\" xlink:href=\"#DejaVuSans-56\"/>\n      </g>\n     </g>\n    </g>\n   </g>\n   <g id=\"matplotlib.axis_2\">\n    <g id=\"ytick_1\">\n     <g id=\"line2d_6\">\n      <defs>\n       <path d=\"M 0 0 \nL -3.5 0 \n\" id=\"md2f1359e60\" style=\"stroke:#000000;stroke-width:0.8;\"/>\n      </defs>\n      <g>\n       <use style=\"stroke:#000000;stroke-width:0.8;\" x=\"59.690625\" xlink:href=\"#md2f1359e60\" y=\"239.758125\"/>\n      </g>\n     </g>\n     <g id=\"text_6\">\n      <!-- 0 -->\n      <g transform=\"translate(46.328125 243.557344)scale(0.1 -0.1)\">\n       <use xlink:href=\"#DejaVuSans-48\"/>\n      </g>\n     </g>\n    </g>\n    <g id=\"ytick_2\">\n     <g id=\"line2d_7\">\n      <g>\n       <use style=\"stroke:#000000;stroke-width:0.8;\" x=\"59.690625\" xlink:href=\"#md2f1359e60\" y=\"203.516313\"/>\n      </g>\n     </g>\n     <g id=\"text_7\">\n      <!-- 5000 -->\n      <defs>\n       <path d=\"M 10.796875 72.90625 \nL 49.515625 72.90625 \nL 49.515625 64.59375 \nL 19.828125 64.59375 \nL 19.828125 46.734375 \nQ 21.96875 47.46875 24.109375 47.828125 \nQ 26.265625 48.1875 28.421875 48.1875 \nQ 40.625 48.1875 47.75 41.5 \nQ 54.890625 34.8125 54.890625 23.390625 \nQ 54.890625 11.625 47.5625 5.09375 \nQ 40.234375 -1.421875 26.90625 -1.421875 \nQ 22.3125 -1.421875 17.546875 -0.640625 \nQ 12.796875 0.140625 7.71875 1.703125 \nL 7.71875 11.625 \nQ 12.109375 9.234375 16.796875 8.0625 \nQ 21.484375 6.890625 26.703125 6.890625 \nQ 35.15625 6.890625 40.078125 11.328125 \nQ 45.015625 15.765625 45.015625 23.390625 \nQ 45.015625 31 40.078125 35.4375 \nQ 35.15625 39.890625 26.703125 39.890625 \nQ 22.75 39.890625 18.8125 39.015625 \nQ 14.890625 38.140625 10.796875 36.28125 \nz\n\" id=\"DejaVuSans-53\"/>\n      </defs>\n      <g transform=\"translate(27.240625 207.315532)scale(0.1 -0.1)\">\n       <use xlink:href=\"#DejaVuSans-53\"/>\n       <use x=\"63.623047\" xlink:href=\"#DejaVuSans-48\"/>\n       <use x=\"127.246094\" xlink:href=\"#DejaVuSans-48\"/>\n       <use x=\"190.869141\" xlink:href=\"#DejaVuSans-48\"/>\n      </g>\n     </g>\n    </g>\n    <g id=\"ytick_3\">\n     <g id=\"line2d_8\">\n      <g>\n       <use style=\"stroke:#000000;stroke-width:0.8;\" x=\"59.690625\" xlink:href=\"#md2f1359e60\" y=\"167.274501\"/>\n      </g>\n     </g>\n     <g id=\"text_8\">\n      <!-- 10000 -->\n      <g transform=\"translate(20.878125 171.07372)scale(0.1 -0.1)\">\n       <use xlink:href=\"#DejaVuSans-49\"/>\n       <use x=\"63.623047\" xlink:href=\"#DejaVuSans-48\"/>\n       <use x=\"127.246094\" xlink:href=\"#DejaVuSans-48\"/>\n       <use x=\"190.869141\" xlink:href=\"#DejaVuSans-48\"/>\n       <use x=\"254.492188\" xlink:href=\"#DejaVuSans-48\"/>\n      </g>\n     </g>\n    </g>\n    <g id=\"ytick_4\">\n     <g id=\"line2d_9\">\n      <g>\n       <use style=\"stroke:#000000;stroke-width:0.8;\" x=\"59.690625\" xlink:href=\"#md2f1359e60\" y=\"131.032689\"/>\n      </g>\n     </g>\n     <g id=\"text_9\">\n      <!-- 15000 -->\n      <g transform=\"translate(20.878125 134.831907)scale(0.1 -0.1)\">\n       <use xlink:href=\"#DejaVuSans-49\"/>\n       <use x=\"63.623047\" xlink:href=\"#DejaVuSans-53\"/>\n       <use x=\"127.246094\" xlink:href=\"#DejaVuSans-48\"/>\n       <use x=\"190.869141\" xlink:href=\"#DejaVuSans-48\"/>\n       <use x=\"254.492188\" xlink:href=\"#DejaVuSans-48\"/>\n      </g>\n     </g>\n    </g>\n    <g id=\"ytick_5\">\n     <g id=\"line2d_10\">\n      <g>\n       <use style=\"stroke:#000000;stroke-width:0.8;\" x=\"59.690625\" xlink:href=\"#md2f1359e60\" y=\"94.790877\"/>\n      </g>\n     </g>\n     <g id=\"text_10\">\n      <!-- 20000 -->\n      <g transform=\"translate(20.878125 98.590095)scale(0.1 -0.1)\">\n       <use xlink:href=\"#DejaVuSans-50\"/>\n       <use x=\"63.623047\" xlink:href=\"#DejaVuSans-48\"/>\n       <use x=\"127.246094\" xlink:href=\"#DejaVuSans-48\"/>\n       <use x=\"190.869141\" xlink:href=\"#DejaVuSans-48\"/>\n       <use x=\"254.492188\" xlink:href=\"#DejaVuSans-48\"/>\n      </g>\n     </g>\n    </g>\n    <g id=\"ytick_6\">\n     <g id=\"line2d_11\">\n      <g>\n       <use style=\"stroke:#000000;stroke-width:0.8;\" x=\"59.690625\" xlink:href=\"#md2f1359e60\" y=\"58.549065\"/>\n      </g>\n     </g>\n     <g id=\"text_11\">\n      <!-- 25000 -->\n      <g transform=\"translate(20.878125 62.348283)scale(0.1 -0.1)\">\n       <use xlink:href=\"#DejaVuSans-50\"/>\n       <use x=\"63.623047\" xlink:href=\"#DejaVuSans-53\"/>\n       <use x=\"127.246094\" xlink:href=\"#DejaVuSans-48\"/>\n       <use x=\"190.869141\" xlink:href=\"#DejaVuSans-48\"/>\n       <use x=\"254.492188\" xlink:href=\"#DejaVuSans-48\"/>\n      </g>\n     </g>\n    </g>\n    <g id=\"text_12\">\n     <!-- Frequency -->\n     <defs>\n      <path d=\"M 9.8125 72.90625 \nL 51.703125 72.90625 \nL 51.703125 64.59375 \nL 19.671875 64.59375 \nL 19.671875 43.109375 \nL 48.578125 43.109375 \nL 48.578125 34.8125 \nL 19.671875 34.8125 \nL 19.671875 0 \nL 9.8125 0 \nz\n\" id=\"DejaVuSans-70\"/>\n      <path d=\"M 41.109375 46.296875 \nQ 39.59375 47.171875 37.8125 47.578125 \nQ 36.03125 48 33.890625 48 \nQ 26.265625 48 22.1875 43.046875 \nQ 18.109375 38.09375 18.109375 28.8125 \nL 18.109375 0 \nL 9.078125 0 \nL 9.078125 54.6875 \nL 18.109375 54.6875 \nL 18.109375 46.1875 \nQ 20.953125 51.171875 25.484375 53.578125 \nQ 30.03125 56 36.53125 56 \nQ 37.453125 56 38.578125 55.875 \nQ 39.703125 55.765625 41.0625 55.515625 \nz\n\" id=\"DejaVuSans-114\"/>\n      <path d=\"M 56.203125 29.59375 \nL 56.203125 25.203125 \nL 14.890625 25.203125 \nQ 15.484375 15.921875 20.484375 11.0625 \nQ 25.484375 6.203125 34.421875 6.203125 \nQ 39.59375 6.203125 44.453125 7.46875 \nQ 49.3125 8.734375 54.109375 11.28125 \nL 54.109375 2.78125 \nQ 49.265625 0.734375 44.1875 -0.34375 \nQ 39.109375 -1.421875 33.890625 -1.421875 \nQ 20.796875 -1.421875 13.15625 6.1875 \nQ 5.515625 13.8125 5.515625 26.8125 \nQ 5.515625 40.234375 12.765625 48.109375 \nQ 20.015625 56 32.328125 56 \nQ 43.359375 56 49.78125 48.890625 \nQ 56.203125 41.796875 56.203125 29.59375 \nz\nM 47.21875 32.234375 \nQ 47.125 39.59375 43.09375 43.984375 \nQ 39.0625 48.390625 32.421875 48.390625 \nQ 24.90625 48.390625 20.390625 44.140625 \nQ 15.875 39.890625 15.1875 32.171875 \nz\n\" id=\"DejaVuSans-101\"/>\n      <path d=\"M 14.796875 27.296875 \nQ 14.796875 17.390625 18.875 11.75 \nQ 22.953125 6.109375 30.078125 6.109375 \nQ 37.203125 6.109375 41.296875 11.75 \nQ 45.40625 17.390625 45.40625 27.296875 \nQ 45.40625 37.203125 41.296875 42.84375 \nQ 37.203125 48.484375 30.078125 48.484375 \nQ 22.953125 48.484375 18.875 42.84375 \nQ 14.796875 37.203125 14.796875 27.296875 \nz\nM 45.40625 8.203125 \nQ 42.578125 3.328125 38.25 0.953125 \nQ 33.9375 -1.421875 27.875 -1.421875 \nQ 17.96875 -1.421875 11.734375 6.484375 \nQ 5.515625 14.40625 5.515625 27.296875 \nQ 5.515625 40.1875 11.734375 48.09375 \nQ 17.96875 56 27.875 56 \nQ 33.9375 56 38.25 53.625 \nQ 42.578125 51.265625 45.40625 46.390625 \nL 45.40625 54.6875 \nL 54.390625 54.6875 \nL 54.390625 -20.796875 \nL 45.40625 -20.796875 \nz\n\" id=\"DejaVuSans-113\"/>\n      <path d=\"M 8.5 21.578125 \nL 8.5 54.6875 \nL 17.484375 54.6875 \nL 17.484375 21.921875 \nQ 17.484375 14.15625 20.5 10.265625 \nQ 23.53125 6.390625 29.59375 6.390625 \nQ 36.859375 6.390625 41.078125 11.03125 \nQ 45.3125 15.671875 45.3125 23.6875 \nL 45.3125 54.6875 \nL 54.296875 54.6875 \nL 54.296875 0 \nL 45.3125 0 \nL 45.3125 8.40625 \nQ 42.046875 3.421875 37.71875 1 \nQ 33.40625 -1.421875 27.6875 -1.421875 \nQ 18.265625 -1.421875 13.375 4.4375 \nQ 8.5 10.296875 8.5 21.578125 \nz\nM 31.109375 56 \nz\n\" id=\"DejaVuSans-117\"/>\n      <path d=\"M 54.890625 33.015625 \nL 54.890625 0 \nL 45.90625 0 \nL 45.90625 32.71875 \nQ 45.90625 40.484375 42.875 44.328125 \nQ 39.84375 48.1875 33.796875 48.1875 \nQ 26.515625 48.1875 22.3125 43.546875 \nQ 18.109375 38.921875 18.109375 30.90625 \nL 18.109375 0 \nL 9.078125 0 \nL 9.078125 54.6875 \nL 18.109375 54.6875 \nL 18.109375 46.1875 \nQ 21.34375 51.125 25.703125 53.5625 \nQ 30.078125 56 35.796875 56 \nQ 45.21875 56 50.046875 50.171875 \nQ 54.890625 44.34375 54.890625 33.015625 \nz\n\" id=\"DejaVuSans-110\"/>\n      <path d=\"M 48.78125 52.59375 \nL 48.78125 44.1875 \nQ 44.96875 46.296875 41.140625 47.34375 \nQ 37.3125 48.390625 33.40625 48.390625 \nQ 24.65625 48.390625 19.8125 42.84375 \nQ 14.984375 37.3125 14.984375 27.296875 \nQ 14.984375 17.28125 19.8125 11.734375 \nQ 24.65625 6.203125 33.40625 6.203125 \nQ 37.3125 6.203125 41.140625 7.25 \nQ 44.96875 8.296875 48.78125 10.40625 \nL 48.78125 2.09375 \nQ 45.015625 0.34375 40.984375 -0.53125 \nQ 36.96875 -1.421875 32.421875 -1.421875 \nQ 20.0625 -1.421875 12.78125 6.34375 \nQ 5.515625 14.109375 5.515625 27.296875 \nQ 5.515625 40.671875 12.859375 48.328125 \nQ 20.21875 56 33.015625 56 \nQ 37.15625 56 41.109375 55.140625 \nQ 45.0625 54.296875 48.78125 52.59375 \nz\n\" id=\"DejaVuSans-99\"/>\n      <path d=\"M 32.171875 -5.078125 \nQ 28.375 -14.84375 24.75 -17.8125 \nQ 21.140625 -20.796875 15.09375 -20.796875 \nL 7.90625 -20.796875 \nL 7.90625 -13.28125 \nL 13.1875 -13.28125 \nQ 16.890625 -13.28125 18.9375 -11.515625 \nQ 21 -9.765625 23.484375 -3.21875 \nL 25.09375 0.875 \nL 2.984375 54.6875 \nL 12.5 54.6875 \nL 29.59375 11.921875 \nL 46.6875 54.6875 \nL 56.203125 54.6875 \nz\n\" id=\"DejaVuSans-121\"/>\n     </defs>\n     <g transform=\"translate(14.798438 157.335781)rotate(-90)scale(0.1 -0.1)\">\n      <use xlink:href=\"#DejaVuSans-70\"/>\n      <use x=\"57.410156\" xlink:href=\"#DejaVuSans-114\"/>\n      <use x=\"98.492188\" xlink:href=\"#DejaVuSans-101\"/>\n      <use x=\"160.015625\" xlink:href=\"#DejaVuSans-113\"/>\n      <use x=\"223.492188\" xlink:href=\"#DejaVuSans-117\"/>\n      <use x=\"286.871094\" xlink:href=\"#DejaVuSans-101\"/>\n      <use x=\"348.394531\" xlink:href=\"#DejaVuSans-110\"/>\n      <use x=\"411.773438\" xlink:href=\"#DejaVuSans-99\"/>\n      <use x=\"466.753906\" xlink:href=\"#DejaVuSans-121\"/>\n     </g>\n    </g>\n   </g>\n   <g id=\"patch_23\">\n    <path d=\"M 59.690625 239.758125 \nL 59.690625 22.318125 \n\" style=\"fill:none;stroke:#000000;stroke-linecap:square;stroke-linejoin:miter;stroke-width:0.8;\"/>\n   </g>\n   <g id=\"patch_24\">\n    <path d=\"M 394.490625 239.758125 \nL 394.490625 22.318125 \n\" style=\"fill:none;stroke:#000000;stroke-linecap:square;stroke-linejoin:miter;stroke-width:0.8;\"/>\n   </g>\n   <g id=\"patch_25\">\n    <path d=\"M 59.690625 239.758125 \nL 394.490625 239.758125 \n\" style=\"fill:none;stroke:#000000;stroke-linecap:square;stroke-linejoin:miter;stroke-width:0.8;\"/>\n   </g>\n   <g id=\"patch_26\">\n    <path d=\"M 59.690625 22.318125 \nL 394.490625 22.318125 \n\" style=\"fill:none;stroke:#000000;stroke-linecap:square;stroke-linejoin:miter;stroke-width:0.8;\"/>\n   </g>\n   <g id=\"text_13\">\n    <!-- predicted -->\n    <defs>\n     <path d=\"M 18.109375 8.203125 \nL 18.109375 -20.796875 \nL 9.078125 -20.796875 \nL 9.078125 54.6875 \nL 18.109375 54.6875 \nL 18.109375 46.390625 \nQ 20.953125 51.265625 25.265625 53.625 \nQ 29.59375 56 35.59375 56 \nQ 45.5625 56 51.78125 48.09375 \nQ 58.015625 40.1875 58.015625 27.296875 \nQ 58.015625 14.40625 51.78125 6.484375 \nQ 45.5625 -1.421875 35.59375 -1.421875 \nQ 29.59375 -1.421875 25.265625 0.953125 \nQ 20.953125 3.328125 18.109375 8.203125 \nz\nM 48.6875 27.296875 \nQ 48.6875 37.203125 44.609375 42.84375 \nQ 40.53125 48.484375 33.40625 48.484375 \nQ 26.265625 48.484375 22.1875 42.84375 \nQ 18.109375 37.203125 18.109375 27.296875 \nQ 18.109375 17.390625 22.1875 11.75 \nQ 26.265625 6.109375 33.40625 6.109375 \nQ 40.53125 6.109375 44.609375 11.75 \nQ 48.6875 17.390625 48.6875 27.296875 \nz\n\" id=\"DejaVuSans-112\"/>\n     <path d=\"M 45.40625 46.390625 \nL 45.40625 75.984375 \nL 54.390625 75.984375 \nL 54.390625 0 \nL 45.40625 0 \nL 45.40625 8.203125 \nQ 42.578125 3.328125 38.25 0.953125 \nQ 33.9375 -1.421875 27.875 -1.421875 \nQ 17.96875 -1.421875 11.734375 6.484375 \nQ 5.515625 14.40625 5.515625 27.296875 \nQ 5.515625 40.1875 11.734375 48.09375 \nQ 17.96875 56 27.875 56 \nQ 33.9375 56 38.25 53.625 \nQ 42.578125 51.265625 45.40625 46.390625 \nz\nM 14.796875 27.296875 \nQ 14.796875 17.390625 18.875 11.75 \nQ 22.953125 6.109375 30.078125 6.109375 \nQ 37.203125 6.109375 41.296875 11.75 \nQ 45.40625 17.390625 45.40625 27.296875 \nQ 45.40625 37.203125 41.296875 42.84375 \nQ 37.203125 48.484375 30.078125 48.484375 \nQ 22.953125 48.484375 18.875 42.84375 \nQ 14.796875 37.203125 14.796875 27.296875 \nz\n\" id=\"DejaVuSans-100\"/>\n     <path d=\"M 9.421875 54.6875 \nL 18.40625 54.6875 \nL 18.40625 0 \nL 9.421875 0 \nz\nM 9.421875 75.984375 \nL 18.40625 75.984375 \nL 18.40625 64.59375 \nL 9.421875 64.59375 \nz\n\" id=\"DejaVuSans-105\"/>\n     <path d=\"M 18.3125 70.21875 \nL 18.3125 54.6875 \nL 36.8125 54.6875 \nL 36.8125 47.703125 \nL 18.3125 47.703125 \nL 18.3125 18.015625 \nQ 18.3125 11.328125 20.140625 9.421875 \nQ 21.96875 7.515625 27.59375 7.515625 \nL 36.8125 7.515625 \nL 36.8125 0 \nL 27.59375 0 \nQ 17.1875 0 13.234375 3.875 \nQ 9.28125 7.765625 9.28125 18.015625 \nL 9.28125 47.703125 \nL 2.6875 47.703125 \nL 2.6875 54.6875 \nL 9.28125 54.6875 \nL 9.28125 70.21875 \nz\n\" id=\"DejaVuSans-116\"/>\n    </defs>\n    <g transform=\"translate(198.496875 16.318125)scale(0.12 -0.12)\">\n     <use xlink:href=\"#DejaVuSans-112\"/>\n     <use x=\"63.476562\" xlink:href=\"#DejaVuSans-114\"/>\n     <use x=\"104.558594\" xlink:href=\"#DejaVuSans-101\"/>\n     <use x=\"166.082031\" xlink:href=\"#DejaVuSans-100\"/>\n     <use x=\"229.558594\" xlink:href=\"#DejaVuSans-105\"/>\n     <use x=\"257.341797\" xlink:href=\"#DejaVuSans-99\"/>\n     <use x=\"312.322266\" xlink:href=\"#DejaVuSans-116\"/>\n     <use x=\"351.53125\" xlink:href=\"#DejaVuSans-101\"/>\n     <use x=\"413.054688\" xlink:href=\"#DejaVuSans-100\"/>\n    </g>\n   </g>\n  </g>\n </g>\n <defs>\n  <clipPath id=\"pfc88174c97\">\n   <rect height=\"217.44\" width=\"334.8\" x=\"59.690625\" y=\"22.318125\"/>\n  </clipPath>\n </defs>\n</svg>\n",
      "text/plain": "<Figure size 432x288 with 1 Axes>"
     },
     "metadata": {
      "needs_background": "light"
     },
     "output_type": "display_data"
    }
   ],
   "source": [
    "pred_dicts = list(linear_est.predict(eval_input_fn))\n",
    "probs = pandas.Series([pred['probabilities'][1] for pred in pred_dicts])\n",
    "\n",
    "probs.plot(kind='hist', bins=20, title='predicted')"
   ]
  },
  {
   "cell_type": "code",
   "execution_count": 47,
   "metadata": {},
   "outputs": [
    {
     "data": {
      "text/plain": "61010"
     },
     "execution_count": 47,
     "metadata": {},
     "output_type": "execute_result"
    }
   ],
   "source": [
    "len(probs)"
   ]
  },
  {
   "cell_type": "code",
   "execution_count": 46,
   "metadata": {},
   "outputs": [
    {
     "ename": "ValueError",
     "evalue": "Found input variables with inconsistent numbers of samples: [6101, 61010]",
     "output_type": "error",
     "traceback": [
      "\u001b[0;31m---------------------------------------------------------------------------\u001b[0m",
      "\u001b[0;31mValueError\u001b[0m                                Traceback (most recent call last)",
      "\u001b[0;32m<ipython-input-46-4045fe7e2cf9>\u001b[0m in \u001b[0;36m<module>\u001b[0;34m\u001b[0m\n\u001b[1;32m      2\u001b[0m \u001b[0;32mfrom\u001b[0m \u001b[0mmatplotlib\u001b[0m \u001b[0;32mimport\u001b[0m \u001b[0mpyplot\u001b[0m \u001b[0;32mas\u001b[0m \u001b[0mpyplot\u001b[0m\u001b[0;34m\u001b[0m\u001b[0;34m\u001b[0m\u001b[0m\n\u001b[1;32m      3\u001b[0m \u001b[0;34m\u001b[0m\u001b[0m\n\u001b[0;32m----> 4\u001b[0;31m \u001b[0mfpr\u001b[0m\u001b[0;34m,\u001b[0m \u001b[0mtpf\u001b[0m\u001b[0;34m,\u001b[0m \u001b[0m_\u001b[0m \u001b[0;34m=\u001b[0m \u001b[0mroc_curve\u001b[0m\u001b[0;34m(\u001b[0m\u001b[0mvalidation_labels\u001b[0m\u001b[0;34m,\u001b[0m \u001b[0mprobs\u001b[0m\u001b[0;34m)\u001b[0m\u001b[0;34m\u001b[0m\u001b[0;34m\u001b[0m\u001b[0m\n\u001b[0m\u001b[1;32m      5\u001b[0m \u001b[0mplt\u001b[0m\u001b[0;34m.\u001b[0m\u001b[0mplot\u001b[0m\u001b[0;34m(\u001b[0m\u001b[0mfpr\u001b[0m\u001b[0;34m,\u001b[0m \u001b[0mtpf\u001b[0m\u001b[0;34m)\u001b[0m\u001b[0;34m\u001b[0m\u001b[0;34m\u001b[0m\u001b[0m\n\u001b[1;32m      6\u001b[0m \u001b[0mplt\u001b[0m\u001b[0;34m.\u001b[0m\u001b[0mtitle\u001b[0m\u001b[0;34m(\u001b[0m\u001b[0;34m'ROC curve'\u001b[0m\u001b[0;34m)\u001b[0m\u001b[0;34m\u001b[0m\u001b[0;34m\u001b[0m\u001b[0m\n",
      "\u001b[0;32m~/.local/share/virtualenvs/cancer-survival-rates-XPA78zYg/lib/python3.7/site-packages/sklearn/metrics/_ranking.py\u001b[0m in \u001b[0;36mroc_curve\u001b[0;34m(y_true, y_score, pos_label, sample_weight, drop_intermediate)\u001b[0m\n\u001b[1;32m    769\u001b[0m     \"\"\"\n\u001b[1;32m    770\u001b[0m     fps, tps, thresholds = _binary_clf_curve(\n\u001b[0;32m--> 771\u001b[0;31m         y_true, y_score, pos_label=pos_label, sample_weight=sample_weight)\n\u001b[0m\u001b[1;32m    772\u001b[0m \u001b[0;34m\u001b[0m\u001b[0m\n\u001b[1;32m    773\u001b[0m     \u001b[0;31m# Attempt to drop thresholds corresponding to points in between and\u001b[0m\u001b[0;34m\u001b[0m\u001b[0;34m\u001b[0m\u001b[0;34m\u001b[0m\u001b[0m\n",
      "\u001b[0;32m~/.local/share/virtualenvs/cancer-survival-rates-XPA78zYg/lib/python3.7/site-packages/sklearn/metrics/_ranking.py\u001b[0m in \u001b[0;36m_binary_clf_curve\u001b[0;34m(y_true, y_score, pos_label, sample_weight)\u001b[0m\n\u001b[1;32m    536\u001b[0m         \u001b[0;32mraise\u001b[0m \u001b[0mValueError\u001b[0m\u001b[0;34m(\u001b[0m\u001b[0;34m\"{0} format is not supported\"\u001b[0m\u001b[0;34m.\u001b[0m\u001b[0mformat\u001b[0m\u001b[0;34m(\u001b[0m\u001b[0my_type\u001b[0m\u001b[0;34m)\u001b[0m\u001b[0;34m)\u001b[0m\u001b[0;34m\u001b[0m\u001b[0;34m\u001b[0m\u001b[0m\n\u001b[1;32m    537\u001b[0m \u001b[0;34m\u001b[0m\u001b[0m\n\u001b[0;32m--> 538\u001b[0;31m     \u001b[0mcheck_consistent_length\u001b[0m\u001b[0;34m(\u001b[0m\u001b[0my_true\u001b[0m\u001b[0;34m,\u001b[0m \u001b[0my_score\u001b[0m\u001b[0;34m,\u001b[0m \u001b[0msample_weight\u001b[0m\u001b[0;34m)\u001b[0m\u001b[0;34m\u001b[0m\u001b[0;34m\u001b[0m\u001b[0m\n\u001b[0m\u001b[1;32m    539\u001b[0m     \u001b[0my_true\u001b[0m \u001b[0;34m=\u001b[0m \u001b[0mcolumn_or_1d\u001b[0m\u001b[0;34m(\u001b[0m\u001b[0my_true\u001b[0m\u001b[0;34m)\u001b[0m\u001b[0;34m\u001b[0m\u001b[0;34m\u001b[0m\u001b[0m\n\u001b[1;32m    540\u001b[0m     \u001b[0my_score\u001b[0m \u001b[0;34m=\u001b[0m \u001b[0mcolumn_or_1d\u001b[0m\u001b[0;34m(\u001b[0m\u001b[0my_score\u001b[0m\u001b[0;34m)\u001b[0m\u001b[0;34m\u001b[0m\u001b[0;34m\u001b[0m\u001b[0m\n",
      "\u001b[0;32m~/.local/share/virtualenvs/cancer-survival-rates-XPA78zYg/lib/python3.7/site-packages/sklearn/utils/validation.py\u001b[0m in \u001b[0;36mcheck_consistent_length\u001b[0;34m(*arrays)\u001b[0m\n\u001b[1;32m    210\u001b[0m     \u001b[0;32mif\u001b[0m \u001b[0mlen\u001b[0m\u001b[0;34m(\u001b[0m\u001b[0muniques\u001b[0m\u001b[0;34m)\u001b[0m \u001b[0;34m>\u001b[0m \u001b[0;36m1\u001b[0m\u001b[0;34m:\u001b[0m\u001b[0;34m\u001b[0m\u001b[0;34m\u001b[0m\u001b[0m\n\u001b[1;32m    211\u001b[0m         raise ValueError(\"Found input variables with inconsistent numbers of\"\n\u001b[0;32m--> 212\u001b[0;31m                          \" samples: %r\" % [int(l) for l in lengths])\n\u001b[0m\u001b[1;32m    213\u001b[0m \u001b[0;34m\u001b[0m\u001b[0m\n\u001b[1;32m    214\u001b[0m \u001b[0;34m\u001b[0m\u001b[0m\n",
      "\u001b[0;31mValueError\u001b[0m: Found input variables with inconsistent numbers of samples: [6101, 61010]"
     ]
    }
   ],
   "source": [
    "from sklearn.metrics import roc_curve\n",
    "from matplotlib import pyplot as pyplot\n",
    "\n",
    "fpr, tpf, _ = roc_curve(validation_labels, probs)\n",
    "plt.plot(fpr, tpf)\n",
    "plt.title('ROC curve')\n",
    "plt.xlabel('false positive rate')\n",
    "plt.ylabel('true positive rate')\n",
    "plt.xlim(0,)\n",
    "plt.ylim(0,)"
   ]
  },
  {
   "cell_type": "code",
   "execution_count": null,
   "metadata": {},
   "outputs": [],
   "source": []
  }
 ]
}