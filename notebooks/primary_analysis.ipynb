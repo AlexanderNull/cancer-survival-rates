{
 "nbformat": 4,
 "nbformat_minor": 2,
 "metadata": {
  "language_info": {
   "name": "python",
   "codemirror_mode": {
    "name": "ipython",
    "version": 3
   },
   "version": "3.7.6-final"
  },
  "orig_nbformat": 2,
  "file_extension": ".py",
  "mimetype": "text/x-python",
  "name": "python",
  "npconvert_exporter": "python",
  "pygments_lexer": "ipython3",
  "version": 3,
  "kernelspec": {
   "name": "python37664bitcancersurvivalratespipenv1cf9960355ec45d39a7494be070dc2a7",
   "display_name": "Python 3.7.6 64-bit ('cancer-survival-rates': pipenv)"
  }
 },
 "cells": [
  {
   "cell_type": "code",
   "execution_count": 1,
   "metadata": {},
   "outputs": [],
   "source": [
    "import json\n",
    "import pandas\n",
    "from pandas.io.json import json_normalize\n",
    "import matplotlib\n",
    "import tensorflow as tf"
   ]
  },
  {
   "cell_type": "code",
   "execution_count": 2,
   "metadata": {},
   "outputs": [],
   "source": [
    "df = pandas.read_json('/mnt/c/Code/cancer-survival-rates/data/processed/case_studies_clean.json')"
   ]
  },
  {
   "cell_type": "code",
   "execution_count": 3,
   "metadata": {},
   "outputs": [],
   "source": [
    "def values(key):\n",
    "    return df[key].value_counts()\n",
    "    \n",
    "def desc(key):\n",
    "    return df[key].describe()\n",
    "\n",
    "def nulls(key):\n",
    "    return df[key].isnull().value_counts()"
   ]
  },
  {
   "cell_type": "code",
   "execution_count": 45,
   "metadata": {},
   "outputs": [
    {
     "data": {
      "text/plain": "Index(['disease_type', 'primary_site', 'gender', 'race', 'vital_status',\n       'ethnicity', 'days_to_death', 'days_to_birth', 'year_of_birth',\n       'cause_of_death', 'year_of_diagnosis', 'age_at_diagnosis',\n       'days_to_last_follow_up', 'tumor_grade', 'days_to_recurrence',\n       'prior_malignancy'],\n      dtype='object')"
     },
     "execution_count": 45,
     "metadata": {},
     "output_type": "execute_result"
    }
   ],
   "source": [
    "df.columns"
   ]
  },
  {
   "cell_type": "code",
   "execution_count": 42,
   "metadata": {},
   "outputs": [
    {
     "data": {
      "text/html": "<div>\n<style scoped>\n    .dataframe tbody tr th:only-of-type {\n        vertical-align: middle;\n    }\n\n    .dataframe tbody tr th {\n        vertical-align: top;\n    }\n\n    .dataframe thead th {\n        text-align: right;\n    }\n</style>\n<table border=\"1\" class=\"dataframe\">\n  <thead>\n    <tr style=\"text-align: right;\">\n      <th></th>\n      <th>disease_type</th>\n      <th>primary_site</th>\n      <th>gender</th>\n      <th>state</th>\n      <th>race</th>\n      <th>vital_status</th>\n      <th>ethnicity</th>\n      <th>age_is_obfuscated</th>\n      <th>days_to_death</th>\n      <th>days_to_birth</th>\n      <th>year_of_birth</th>\n      <th>year_of_diagnosis</th>\n      <th>age_at_diagnosis</th>\n      <th>days_to_last_follow_up</th>\n      <th>tumor_grade</th>\n      <th>days_to_diagnosis</th>\n      <th>days_to_recurrence</th>\n      <th>prior_malignancy</th>\n    </tr>\n  </thead>\n  <tbody>\n    <tr>\n      <th>0</th>\n      <td>Epithelial Neoplasms, NOS</td>\n      <td>Breast</td>\n      <td>female</td>\n      <td>released</td>\n      <td>not reported</td>\n      <td>Not Reported</td>\n      <td>not reported</td>\n      <td>NaN</td>\n      <td>NaN</td>\n      <td>NaN</td>\n      <td>NaN</td>\n      <td>NaN</td>\n      <td>14656.0</td>\n      <td>NaN</td>\n      <td>Not Reported</td>\n      <td>NaN</td>\n      <td>NaN</td>\n      <td>None</td>\n    </tr>\n    <tr>\n      <th>1</th>\n      <td>Adenomas and Adenocarcinomas</td>\n      <td>Bronchus and lung</td>\n      <td>male</td>\n      <td>released</td>\n      <td>white</td>\n      <td>Not Reported</td>\n      <td>not hispanic or latino</td>\n      <td>NaN</td>\n      <td>NaN</td>\n      <td>-18993.0</td>\n      <td>NaN</td>\n      <td>NaN</td>\n      <td>NaN</td>\n      <td>NaN</td>\n      <td>Not Reported</td>\n      <td>NaN</td>\n      <td>NaN</td>\n      <td>None</td>\n    </tr>\n    <tr>\n      <th>2</th>\n      <td>Meningiomas</td>\n      <td>Meninges</td>\n      <td>male</td>\n      <td>released</td>\n      <td>white</td>\n      <td>Not Reported</td>\n      <td>not hispanic or latino</td>\n      <td>NaN</td>\n      <td>NaN</td>\n      <td>-21915.0</td>\n      <td>NaN</td>\n      <td>NaN</td>\n      <td>NaN</td>\n      <td>NaN</td>\n      <td>Not Reported</td>\n      <td>NaN</td>\n      <td>NaN</td>\n      <td>None</td>\n    </tr>\n    <tr>\n      <th>3</th>\n      <td>Ductal and Lobular Neoplasms</td>\n      <td>Breast</td>\n      <td>female</td>\n      <td>released</td>\n      <td>other</td>\n      <td>Not Reported</td>\n      <td>hispanic or latino</td>\n      <td>NaN</td>\n      <td>NaN</td>\n      <td>-22645.0</td>\n      <td>NaN</td>\n      <td>NaN</td>\n      <td>NaN</td>\n      <td>NaN</td>\n      <td>Not Reported</td>\n      <td>NaN</td>\n      <td>NaN</td>\n      <td>None</td>\n    </tr>\n    <tr>\n      <th>4</th>\n      <td>Adenomas and Adenocarcinomas</td>\n      <td>Colon</td>\n      <td>male</td>\n      <td>released</td>\n      <td>white</td>\n      <td>Not Reported</td>\n      <td>not hispanic or latino</td>\n      <td>NaN</td>\n      <td>NaN</td>\n      <td>-21915.0</td>\n      <td>NaN</td>\n      <td>NaN</td>\n      <td>NaN</td>\n      <td>NaN</td>\n      <td>Not Reported</td>\n      <td>NaN</td>\n      <td>NaN</td>\n      <td>None</td>\n    </tr>\n    <tr>\n      <th>...</th>\n      <td>...</td>\n      <td>...</td>\n      <td>...</td>\n      <td>...</td>\n      <td>...</td>\n      <td>...</td>\n      <td>...</td>\n      <td>...</td>\n      <td>...</td>\n      <td>...</td>\n      <td>...</td>\n      <td>...</td>\n      <td>...</td>\n      <td>...</td>\n      <td>...</td>\n      <td>...</td>\n      <td>...</td>\n      <td>...</td>\n    </tr>\n    <tr>\n      <th>83479</th>\n      <td>Complex Mixed and Stromal Neoplasms</td>\n      <td>Uterus, NOS</td>\n      <td>None</td>\n      <td>None</td>\n      <td>None</td>\n      <td>None</td>\n      <td>None</td>\n      <td>NaN</td>\n      <td>NaN</td>\n      <td>NaN</td>\n      <td>NaN</td>\n      <td>NaN</td>\n      <td>NaN</td>\n      <td>NaN</td>\n      <td>None</td>\n      <td>NaN</td>\n      <td>NaN</td>\n      <td>None</td>\n    </tr>\n    <tr>\n      <th>83480</th>\n      <td>Adenomas and Adenocarcinomas</td>\n      <td>Thyroid gland</td>\n      <td>None</td>\n      <td>None</td>\n      <td>None</td>\n      <td>None</td>\n      <td>None</td>\n      <td>NaN</td>\n      <td>NaN</td>\n      <td>NaN</td>\n      <td>NaN</td>\n      <td>NaN</td>\n      <td>NaN</td>\n      <td>NaN</td>\n      <td>None</td>\n      <td>NaN</td>\n      <td>NaN</td>\n      <td>None</td>\n    </tr>\n    <tr>\n      <th>83481</th>\n      <td>Ductal and Lobular Neoplasms</td>\n      <td>Breast</td>\n      <td>None</td>\n      <td>None</td>\n      <td>None</td>\n      <td>None</td>\n      <td>None</td>\n      <td>NaN</td>\n      <td>NaN</td>\n      <td>NaN</td>\n      <td>NaN</td>\n      <td>NaN</td>\n      <td>NaN</td>\n      <td>NaN</td>\n      <td>None</td>\n      <td>NaN</td>\n      <td>NaN</td>\n      <td>None</td>\n    </tr>\n    <tr>\n      <th>83482</th>\n      <td>Adenomas and Adenocarcinomas</td>\n      <td>Uterus, NOS</td>\n      <td>None</td>\n      <td>None</td>\n      <td>None</td>\n      <td>None</td>\n      <td>None</td>\n      <td>NaN</td>\n      <td>NaN</td>\n      <td>NaN</td>\n      <td>NaN</td>\n      <td>NaN</td>\n      <td>NaN</td>\n      <td>NaN</td>\n      <td>None</td>\n      <td>NaN</td>\n      <td>NaN</td>\n      <td>None</td>\n    </tr>\n    <tr>\n      <th>83483</th>\n      <td>Adenomas and Adenocarcinomas</td>\n      <td>Unknown</td>\n      <td>None</td>\n      <td>None</td>\n      <td>None</td>\n      <td>None</td>\n      <td>None</td>\n      <td>NaN</td>\n      <td>NaN</td>\n      <td>NaN</td>\n      <td>NaN</td>\n      <td>NaN</td>\n      <td>NaN</td>\n      <td>NaN</td>\n      <td>None</td>\n      <td>NaN</td>\n      <td>NaN</td>\n      <td>None</td>\n    </tr>\n  </tbody>\n</table>\n<p>64417 rows × 18 columns</p>\n</div>",
      "text/plain": "                              disease_type       primary_site  gender  \\\n0                Epithelial Neoplasms, NOS             Breast  female   \n1             Adenomas and Adenocarcinomas  Bronchus and lung    male   \n2                              Meningiomas           Meninges    male   \n3             Ductal and Lobular Neoplasms             Breast  female   \n4             Adenomas and Adenocarcinomas              Colon    male   \n...                                    ...                ...     ...   \n83479  Complex Mixed and Stromal Neoplasms        Uterus, NOS    None   \n83480         Adenomas and Adenocarcinomas      Thyroid gland    None   \n83481         Ductal and Lobular Neoplasms             Breast    None   \n83482         Adenomas and Adenocarcinomas        Uterus, NOS    None   \n83483         Adenomas and Adenocarcinomas            Unknown    None   \n\n          state          race  vital_status               ethnicity  \\\n0      released  not reported  Not Reported            not reported   \n1      released         white  Not Reported  not hispanic or latino   \n2      released         white  Not Reported  not hispanic or latino   \n3      released         other  Not Reported      hispanic or latino   \n4      released         white  Not Reported  not hispanic or latino   \n...         ...           ...           ...                     ...   \n83479      None          None          None                    None   \n83480      None          None          None                    None   \n83481      None          None          None                    None   \n83482      None          None          None                    None   \n83483      None          None          None                    None   \n\n       age_is_obfuscated  days_to_death  days_to_birth  year_of_birth  \\\n0                    NaN            NaN            NaN            NaN   \n1                    NaN            NaN       -18993.0            NaN   \n2                    NaN            NaN       -21915.0            NaN   \n3                    NaN            NaN       -22645.0            NaN   \n4                    NaN            NaN       -21915.0            NaN   \n...                  ...            ...            ...            ...   \n83479                NaN            NaN            NaN            NaN   \n83480                NaN            NaN            NaN            NaN   \n83481                NaN            NaN            NaN            NaN   \n83482                NaN            NaN            NaN            NaN   \n83483                NaN            NaN            NaN            NaN   \n\n       year_of_diagnosis  age_at_diagnosis  days_to_last_follow_up  \\\n0                    NaN           14656.0                     NaN   \n1                    NaN               NaN                     NaN   \n2                    NaN               NaN                     NaN   \n3                    NaN               NaN                     NaN   \n4                    NaN               NaN                     NaN   \n...                  ...               ...                     ...   \n83479                NaN               NaN                     NaN   \n83480                NaN               NaN                     NaN   \n83481                NaN               NaN                     NaN   \n83482                NaN               NaN                     NaN   \n83483                NaN               NaN                     NaN   \n\n        tumor_grade  days_to_diagnosis  days_to_recurrence prior_malignancy  \n0      Not Reported                NaN                 NaN             None  \n1      Not Reported                NaN                 NaN             None  \n2      Not Reported                NaN                 NaN             None  \n3      Not Reported                NaN                 NaN             None  \n4      Not Reported                NaN                 NaN             None  \n...             ...                ...                 ...              ...  \n83479          None                NaN                 NaN             None  \n83480          None                NaN                 NaN             None  \n83481          None                NaN                 NaN             None  \n83482          None                NaN                 NaN             None  \n83483          None                NaN                 NaN             None  \n\n[64417 rows x 18 columns]"
     },
     "execution_count": 42,
     "metadata": {},
     "output_type": "execute_result"
    }
   ],
   "source": [
    "df.loc[df['days_to_death'].isnull() & df['days_to_last_follow_up'].isnull()]"
   ]
  },
  {
   "cell_type": "code",
   "execution_count": 43,
   "metadata": {},
   "outputs": [
    {
     "data": {
      "text/plain": "Not Reported    62937\nAlive           13274\nDead             6118\nUnknown           358\nName: vital_status, dtype: int64"
     },
     "execution_count": 43,
     "metadata": {},
     "output_type": "execute_result"
    }
   ],
   "source": [
    "values('vital_status')"
   ]
  },
  {
   "cell_type": "code",
   "execution_count": 46,
   "metadata": {},
   "outputs": [
    {
     "name": "stdout",
     "output_type": "stream",
     "text": "disease_type\nFalse    83085\nName: disease_type, dtype: int64\n\nprimary_site\nFalse    83085\nName: primary_site, dtype: int64\n\ngender\nFalse    82687\nTrue       398\nName: gender, dtype: int64\n\nrace\nFalse    82687\nTrue       398\nName: race, dtype: int64\n\nvital_status\nFalse    82687\nTrue       398\nName: vital_status, dtype: int64\n\nethnicity\nFalse    82687\nTrue       398\nName: ethnicity, dtype: int64\n\ndays_to_death\nTrue     78315\nFalse     4770\nName: days_to_death, dtype: int64\n\ndays_to_birth\nFalse    55988\nTrue     27097\nName: days_to_birth, dtype: int64\n\nyear_of_birth\nTrue     71684\nFalse    11401\nName: year_of_birth, dtype: int64\n\ncause_of_death\nTrue     82885\nFalse      200\nName: cause_of_death, dtype: int64\n\nyear_of_diagnosis\nTrue     71566\nFalse    11519\nName: year_of_diagnosis, dtype: int64\n\nage_at_diagnosis\nTrue     45584\nFalse    37501\nName: age_at_diagnosis, dtype: int64\n\ndays_to_last_follow_up\nTrue     66400\nFalse    16685\nName: days_to_last_follow_up, dtype: int64\n\ntumor_grade\nFalse    82687\nTrue       398\nName: tumor_grade, dtype: int64\n\ndays_to_recurrence\nTrue     83044\nFalse       41\nName: days_to_recurrence, dtype: int64\n\nprior_malignancy\nTrue     71500\nFalse    11585\nName: prior_malignancy, dtype: int64\n\n"
    }
   ],
   "source": [
    "for x in df.columns:\n",
    "    print(x)\n",
    "    print(nulls(x))\n",
    "    print()"
   ]
  },
  {
   "cell_type": "code",
   "execution_count": 49,
   "metadata": {},
   "outputs": [
    {
     "data": {
      "text/plain": "Bronchus and lung                                                         11852\nHematopoietic and reticuloendothelial systems                              8899\nBreast                                                                     8896\nColon                                                                      6885\nSpinal cord, cranial nerves, and other parts of central nervous system     3850\n                                                                          ...  \nTrachea                                                                       7\nPalate                                                                        5\nOther and unspecified male genital organs                                     1\nRenal pelvis                                                                  1\nBlood                                                                         1\nName: primary_site, Length: 68, dtype: int64"
     },
     "execution_count": 49,
     "metadata": {},
     "output_type": "execute_result"
    }
   ],
   "source": [
    "values('primary_site')"
   ]
  },
  {
   "cell_type": "code",
   "execution_count": 58,
   "metadata": {},
   "outputs": [
    {
     "data": {
      "text/plain": "Bronchus and lung                                                         11852\nHematopoietic and reticuloendothelial systems                              8899\nColon                                                                      6885\nSpinal cord, cranial nerves, and other parts of central nervous system     3850\nUnknown                                                                    3116\nProstate gland                                                             2225\nUterus, NOS                                                                1882\nLiver and intrahepatic bile ducts                                          1606\nConnective, subcutaneous and other soft tissues                            1583\nThyroid gland                                                              1440\nRectum                                                                     1104\nOther and ill-defined sites                                                1074\nCorpus uteri                                                                781\nOther and ill-defined digestive organs                                      718\nHeart, mediastinum, and pleura                                              705\nCervix uteri                                                                703\nOther and unspecified major salivary glands                                 615\nLymph Nodes                                                                 524\nBones, joints and articular cartilage of other and unspecified sites        451\nRetroperitoneum and peritoneum                                              384\nOther and ill-defined sites in lip, oral cavity and pharynx                 362\nPeripheral nerves and autonomic nervous system                              272\nBones, joints and articular cartilage of limbs                              268\nSmall intestine                                                             268\nGallbladder                                                                 265\nMeninges                                                                    244\nNot Reported                                                                236\nAnus and anal canal                                                         232\nEye and adnexa                                                              222\nOther and unspecified parts of biliary tract                                219\nOther and unspecified urinary organs                                        217\nOropharynx                                                                  194\nOther endocrine glands and related structures                               181\nLarynx                                                                      169\nOther and unspecified female genital organs                                 161\nOther and unspecified parts of tongue                                       133\nNasopharynx                                                                 101\nRectosigmoid junction                                                        79\nVagina                                                                       72\nFloor of mouth                                                               56\nTonsil                                                                       46\nOther and unspecified parts of mouth                                         43\nNasal cavity and middle ear                                                  40\nPenis                                                                        33\nHypopharynx                                                                  25\nBase of tongue                                                               24\nUreter                                                                       15\nGum                                                                          11\nVulva                                                                        10\nLip                                                                           9\nTrachea                                                                       7\nPalate                                                                        5\nOther and unspecified male genital organs                                     1\nRenal pelvis                                                                  1\nName: primary_site, dtype: int64"
     },
     "execution_count": 58,
     "metadata": {},
     "output_type": "execute_result"
    }
   ],
   "source": [
    "df.loc[~df['primary_site'].isin(major_sites)]['primary_site'].value_counts()"
   ]
  },
  {
   "cell_type": "code",
   "execution_count": 64,
   "metadata": {},
   "outputs": [],
   "source": [
    "major_sites = {\n",
    "    'adrenal_gland': 'Adrenal gland',\n",
    "    'bile_duct': 'Bile duct',\n",
    "    'bladder': 'Bladder',\n",
    "    'blood': 'Blood',\n",
    "    'bone': 'Bone',\n",
    "    'bone_marrow': 'Bone Marrow',\n",
    "    'brain': 'Brain',\n",
    "    'breast': 'Breast',\n",
    "    'cervix': 'Cervix',\n",
    "    'colorectoral': 'Colorectoral',\n",
    "    'esophagus': 'Esophagus',\n",
    "    'eye': 'Eye',\n",
    "    'head_and_neck': 'Head and neck',\n",
    "    'kidney': 'Kidney',\n",
    "    'liver': 'Liver',\n",
    "    'lung': 'Lung',\n",
    "    'lymph_nodes': 'Lymph nodes',\n",
    "    'nervous_system': 'Nervous system',\n",
    "    'ovary': 'Ovary',\n",
    "    'pancreas': 'Pancreas',\n",
    "    'pleura': 'Pleura',\n",
    "    'prostate': 'Prostate',\n",
    "    'skin': 'Skin',\n",
    "    'soft_tissue': 'Soft tissue',\n",
    "    'stomach': 'Stomach',\n",
    "    'testis': 'Testis',\n",
    "    'thymus': 'Thymus',\n",
    "    'thyroid': 'Thyroid',\n",
    "    'uterus': 'Uterus',\n",
    "    'other': 'Other'\n",
    "}"
   ]
  },
  {
   "cell_type": "code",
   "execution_count": 66,
   "metadata": {},
   "outputs": [
    {
     "data": {
      "text/plain": "'Lung'"
     },
     "execution_count": 66,
     "metadata": {},
     "output_type": "execute_result"
    }
   ],
   "source": [
    "major_sites['lung']"
   ]
  },
  {
   "cell_type": "code",
   "execution_count": 68,
   "metadata": {},
   "outputs": [],
   "source": [
    "sites_dict = {\n",
    "    'Bronchus and lung': major_sites['lung'],\n",
    "    'Hematopoietic and reticuloendothelial systems': major_sites['other'], # maybe bone marrow? partially lymph related\n",
    "    'Colon': major_sites['colorectoral'],\n",
    "    'Spinal cord, cranial nerves, and other parts of central nervous system': major_sites['nervous_system'],\n",
    "    'Unknown': major_sites['other'],\n",
    "    'Prostate gland': major_sites['prostate'],\n",
    "    'Uterus, NOS': major_sites['uterus'],\n",
    "    'Liver and intrahepatic bile ducts': major_sites['liver'],\n",
    "    'Connective, subcutaneous and other soft tissues': major_sites['soft_tissue'],\n",
    "    'Thyroid gland': major_sites['thyroid'],\n",
    "    'Rectum': major_sites['colorectoral'],\n",
    "    'Other and ill-defined sites': major_sites['other'],\n",
    "    'Corpus uteri': major_sites['uterus'],\n",
    "    'Other and ill-defined digestive organs': major_sites['other'],\n",
    "    'Heart, mediastinum, and pleura': major_sites['other'],\n",
    "    'Cervix uteri': major_sites['cervix'],\n",
    "    'Other and unspecified major salivary glands': major_sites['other'],\n",
    "    'Lymph Nodes': major_sites['lymph_nodes'],\n",
    "    'Bones, joints and articular cartilage of other and unspecified sites': major_sites['bone'],\n",
    "    'Retroperitoneum and peritoneum': major_sites['other'], # abdominal\n",
    "    'Other and ill-defined sites in lip, oral cavity and pharynx': major_sites['head_and_neck'],\n",
    "    'Peripheral nerves and autonomic nervous system': major_sites['nervous_system'],\n",
    "    'Bones, joints and articular cartilage of limbs': major_sites['bone'],\n",
    "    'Small intestine': major_sites['other'],\n",
    "    'Gallbladder': major_sites['other'],\n",
    "    'Meninges': major_sites['other'],\n",
    "    'Not Reported': major_sites['other'],\n",
    "    'Anus and anal canal': major_sites['other'],\n",
    "    'Eye and adnexa': major_sites['eye'],\n",
    "    'Other and unspecified parts of biliary tract': major_sites['other'], # liver? bile duct?\n",
    "    'Other and unspecified urinary organs': major_sites['other'],\n",
    "    'Oropharynx': major_sites['head_and_neck'],\n",
    "    'Other endocrine glands and related structures': major_sites['other'],\n",
    "    'Larynx': major_sites['head_and_neck'],\n",
    "    'Other and unspecified female genital organs': major_sites['other'],\n",
    "    'Other and unspecified parts of tongue': major_sites['head_and_neck'],\n",
    "    'Nasopharynx': major_sites['head_and_neck'],\n",
    "    'Rectosigmoid junction': major_sites['colorectoral'],\n",
    "    'Vagina': major_sites['other'],\n",
    "    'Floor of mouth': major_sites['head_and_neck'],\n",
    "    'Tonsil': major_sites['head_and_neck'],\n",
    "    'Other and unspecified parts of mouth': major_sites['head_and_neck'],\n",
    "    'Nasal cavity and middle ear': major_sites['head_and_neck'],\n",
    "    'Penis': major_sites['other'],\n",
    "    'Hypopharynx': major_sites['head_and_neck'],\n",
    "    'Base of tongue': major_sites['head_and_neck'],\n",
    "    'Ureter': major_sites['other'],\n",
    "    'Gum': major_sites['head_and_neck'],\n",
    "    'Vulva': major_sites['other'],\n",
    "    'Lip': major_sites['other'],\n",
    "    'Trachea': major_sites['other'],\n",
    "    'Palate': major_sites['other'],\n",
    "    'Other and unspecified male genital organs': major_sites['other'],\n",
    "    'Renal pelvis': major_sites['kidney']\n",
    "}"
   ]
  },
  {
   "cell_type": "code",
   "execution_count": 70,
   "metadata": {},
   "outputs": [],
   "source": [
    "def convert_to_major(value):\n",
    "    if value in sites_dict:\n",
    "        return sites_dict[value]\n",
    "    else:\n",
    "        return value"
   ]
  },
  {
   "cell_type": "code",
   "execution_count": 72,
   "metadata": {},
   "outputs": [],
   "source": [
    "df['major_site'] = df['primary_site'].apply(convert_to_major)"
   ]
  },
  {
   "cell_type": "code",
   "execution_count": 75,
   "metadata": {},
   "outputs": [
    {
     "data": {
      "text/html": "<div>\n<style scoped>\n    .dataframe tbody tr th:only-of-type {\n        vertical-align: middle;\n    }\n\n    .dataframe tbody tr th {\n        vertical-align: top;\n    }\n\n    .dataframe thead th {\n        text-align: right;\n    }\n</style>\n<table border=\"1\" class=\"dataframe\">\n  <thead>\n    <tr style=\"text-align: right;\">\n      <th></th>\n      <th>disease_type</th>\n      <th>primary_site</th>\n      <th>gender</th>\n      <th>race</th>\n      <th>vital_status</th>\n      <th>ethnicity</th>\n      <th>days_to_death</th>\n      <th>days_to_birth</th>\n      <th>year_of_birth</th>\n      <th>cause_of_death</th>\n      <th>year_of_diagnosis</th>\n      <th>age_at_diagnosis</th>\n      <th>days_to_last_follow_up</th>\n      <th>tumor_grade</th>\n      <th>days_to_recurrence</th>\n      <th>prior_malignancy</th>\n      <th>major_site</th>\n    </tr>\n  </thead>\n  <tbody>\n  </tbody>\n</table>\n</div>",
      "text/plain": "Empty DataFrame\nColumns: [disease_type, primary_site, gender, race, vital_status, ethnicity, days_to_death, days_to_birth, year_of_birth, cause_of_death, year_of_diagnosis, age_at_diagnosis, days_to_last_follow_up, tumor_grade, days_to_recurrence, prior_malignancy, major_site]\nIndex: []"
     },
     "execution_count": 75,
     "metadata": {},
     "output_type": "execute_result"
    }
   ],
   "source": [
    "df.loc[~df['major_site'].isin(major_sites.values())]"
   ]
  },
  {
   "cell_type": "code",
   "execution_count": null,
   "metadata": {},
   "outputs": [],
   "source": []
  }
 ]
}