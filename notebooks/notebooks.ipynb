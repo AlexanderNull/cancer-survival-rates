{
 "nbformat": 4,
 "nbformat_minor": 2,
 "metadata": {
  "language_info": {
   "name": "python",
   "codemirror_mode": {
    "name": "ipython",
    "version": 3
   },
   "version": "3.8.1-final"
  },
  "orig_nbformat": 2,
  "file_extension": ".py",
  "mimetype": "text/x-python",
  "name": "python",
  "npconvert_exporter": "python",
  "pygments_lexer": "ipython3",
  "version": 3,
  "kernelspec": {
   "name": "python38164bitcancersurvivalratespipenv2502e73b84d444429f4481199a202daf",
   "display_name": "Python 3.8.1 64-bit ('cancer-survival-rates': pipenv)"
  }
 },
 "cells": [
  {
   "cell_type": "code",
   "execution_count": 4,
   "metadata": {},
   "outputs": [],
   "source": [
    "import json\n",
    "import pandas as pd\n",
    "from pandas.io.json import json_normalize\n",
    "import matplotlib\n",
    "\n",
    "json_path = '/mnt/c/Code/cancer-survival-rates/data/case_studies.json'"
   ]
  },
  {
   "cell_type": "code",
   "execution_count": 5,
   "metadata": {},
   "outputs": [],
   "source": [
    "data = pd.read_json('/mnt/c/Code/cancer-survival-rates/data/case_studies.json')"
   ]
  },
  {
   "cell_type": "code",
   "execution_count": 6,
   "metadata": {},
   "outputs": [],
   "source": [
    "demos = data['demographic']"
   ]
  },
  {
   "cell_type": "code",
   "execution_count": 13,
   "metadata": {},
   "outputs": [],
   "source": [
    "data = data.dropna(subset=['demographic'])"
   ]
  },
  {
   "cell_type": "code",
   "execution_count": 15,
   "metadata": {},
   "outputs": [],
   "source": [
    "flat = demos.apply(pd.io.json.json_normalize)"
   ]
  },
  {
   "cell_type": "code",
   "execution_count": 19,
   "metadata": {},
   "outputs": [],
   "source": [
    "with open(json_path) as json_file:\n",
    "    rawData = json.load(json_file)"
   ]
  },
  {
   "cell_type": "code",
   "execution_count": 21,
   "metadata": {},
   "outputs": [],
   "source": [
    "fData = json_normalize(rawData)"
   ]
  },
  {
   "cell_type": "code",
   "execution_count": 23,
   "metadata": {},
   "outputs": [
    {
     "data": {
      "text/html": "<div>\n<style scoped>\n    .dataframe tbody tr th:only-of-type {\n        vertical-align: middle;\n    }\n\n    .dataframe tbody tr th {\n        vertical-align: top;\n    }\n\n    .dataframe thead th {\n        text-align: right;\n    }\n</style>\n<table border=\"1\" class=\"dataframe\">\n  <thead>\n    <tr style=\"text-align: right;\">\n      <th></th>\n      <th>updated_datetime</th>\n      <th>created_datetime</th>\n      <th>gender</th>\n      <th>demographic_id</th>\n      <th>state</th>\n      <th>race</th>\n      <th>vital_status</th>\n      <th>submitter_id</th>\n      <th>ethnicity</th>\n      <th>cause_of_death</th>\n      <th>age_is_obfuscated</th>\n      <th>occupation_duration_years</th>\n      <th>cause_of_death_source</th>\n      <th>year_of_birth</th>\n      <th>days_to_birth</th>\n      <th>weeks_gestation_at_birth</th>\n      <th>days_to_death</th>\n      <th>year_of_death</th>\n      <th>age_at_index</th>\n      <th>premature_at_birth</th>\n    </tr>\n  </thead>\n  <tbody>\n    <tr>\n      <th>0</th>\n      <td>2019-04-26T16:46:11.690380-05:00</td>\n      <td>2017-06-19T11:42:44.248885-05:00</td>\n      <td>female</td>\n      <td>4d0c7e80-79f9-43b2-aecc-9627c4df2138</td>\n      <td>released</td>\n      <td>not reported</td>\n      <td>Not Reported</td>\n      <td>AD1602_demographic</td>\n      <td>not reported</td>\n      <td>NaN</td>\n      <td>NaN</td>\n      <td>NaN</td>\n      <td>NaN</td>\n      <td>NaN</td>\n      <td>NaN</td>\n      <td>NaN</td>\n      <td>NaN</td>\n      <td>NaN</td>\n      <td>NaN</td>\n      <td>NaN</td>\n    </tr>\n    <tr>\n      <th>1</th>\n      <td>2019-11-19T10:19:29.140531-06:00</td>\n      <td>2018-10-03T01:57:52.306175-05:00</td>\n      <td>male</td>\n      <td>6bafc55e-cfc7-4569-82ac-4c4093ca7d9f</td>\n      <td>released</td>\n      <td>white</td>\n      <td>Not Reported</td>\n      <td>GENIE-MSK-P-0000344_demo</td>\n      <td>not hispanic or latino</td>\n      <td>None</td>\n      <td>NaN</td>\n      <td>NaN</td>\n      <td>NaN</td>\n      <td>NaN</td>\n      <td>-18993.0</td>\n      <td>NaN</td>\n      <td>NaN</td>\n      <td>NaN</td>\n      <td>18993.0</td>\n      <td>NaN</td>\n    </tr>\n    <tr>\n      <th>2</th>\n      <td>2019-11-19T10:19:29.140531-06:00</td>\n      <td>2018-10-03T02:16:21.359476-05:00</td>\n      <td>male</td>\n      <td>b2c4ac65-af85-4045-8c73-5f491b1a1e7e</td>\n      <td>released</td>\n      <td>white</td>\n      <td>Not Reported</td>\n      <td>GENIE-MSK-P-0006425_demo</td>\n      <td>not hispanic or latino</td>\n      <td>None</td>\n      <td>NaN</td>\n      <td>NaN</td>\n      <td>NaN</td>\n      <td>NaN</td>\n      <td>-21915.0</td>\n      <td>NaN</td>\n      <td>NaN</td>\n      <td>NaN</td>\n      <td>21915.0</td>\n      <td>NaN</td>\n    </tr>\n    <tr>\n      <th>3</th>\n      <td>2019-11-19T10:19:29.140531-06:00</td>\n      <td>2018-10-03T02:08:10.928833-05:00</td>\n      <td>female</td>\n      <td>4e9b90f1-8a65-458f-aa8b-3ba47a0a6483</td>\n      <td>released</td>\n      <td>other</td>\n      <td>Not Reported</td>\n      <td>GENIE-MSK-P-0016345_demo</td>\n      <td>hispanic or latino</td>\n      <td>None</td>\n      <td>NaN</td>\n      <td>NaN</td>\n      <td>NaN</td>\n      <td>NaN</td>\n      <td>-22645.0</td>\n      <td>NaN</td>\n      <td>NaN</td>\n      <td>NaN</td>\n      <td>22645.0</td>\n      <td>NaN</td>\n    </tr>\n    <tr>\n      <th>4</th>\n      <td>2019-11-18T13:54:59.294543-06:00</td>\n      <td>2018-09-13T18:15:17.424980-05:00</td>\n      <td>male</td>\n      <td>c3b8546e-3357-4482-8d2b-598c85ccb23b</td>\n      <td>released</td>\n      <td>white</td>\n      <td>Not Reported</td>\n      <td>GENIE-DFCI-037981_demo</td>\n      <td>not hispanic or latino</td>\n      <td>None</td>\n      <td>NaN</td>\n      <td>NaN</td>\n      <td>NaN</td>\n      <td>NaN</td>\n      <td>-21915.0</td>\n      <td>NaN</td>\n      <td>NaN</td>\n      <td>NaN</td>\n      <td>21915.0</td>\n      <td>NaN</td>\n    </tr>\n    <tr>\n      <th>...</th>\n      <td>...</td>\n      <td>...</td>\n      <td>...</td>\n      <td>...</td>\n      <td>...</td>\n      <td>...</td>\n      <td>...</td>\n      <td>...</td>\n      <td>...</td>\n      <td>...</td>\n      <td>...</td>\n      <td>...</td>\n      <td>...</td>\n      <td>...</td>\n      <td>...</td>\n      <td>...</td>\n      <td>...</td>\n      <td>...</td>\n      <td>...</td>\n      <td>...</td>\n    </tr>\n    <tr>\n      <th>83082</th>\n      <td>2019-11-19T10:19:29.140531-06:00</td>\n      <td>2018-10-03T02:08:10.928833-05:00</td>\n      <td>female</td>\n      <td>ddb149ab-861f-45dd-a6b4-ad3337610d99</td>\n      <td>released</td>\n      <td>Unknown</td>\n      <td>Not Reported</td>\n      <td>GENIE-MSK-P-0003045_demo</td>\n      <td>not hispanic or latino</td>\n      <td>None</td>\n      <td>NaN</td>\n      <td>NaN</td>\n      <td>NaN</td>\n      <td>NaN</td>\n      <td>-24471.0</td>\n      <td>NaN</td>\n      <td>NaN</td>\n      <td>NaN</td>\n      <td>24471.0</td>\n      <td>NaN</td>\n    </tr>\n    <tr>\n      <th>83083</th>\n      <td>2019-07-31T19:12:59.683570-05:00</td>\n      <td>None</td>\n      <td>female</td>\n      <td>40d1822f-29fe-5d63-9aea-172908494fd6</td>\n      <td>released</td>\n      <td>asian</td>\n      <td>Alive</td>\n      <td>TCGA-DJ-A4V0_demographic</td>\n      <td>not hispanic or latino</td>\n      <td>NaN</td>\n      <td>NaN</td>\n      <td>NaN</td>\n      <td>NaN</td>\n      <td>1976.0</td>\n      <td>-13168.0</td>\n      <td>NaN</td>\n      <td>NaN</td>\n      <td>NaN</td>\n      <td>36.0</td>\n      <td>NaN</td>\n    </tr>\n    <tr>\n      <th>83084</th>\n      <td>2019-11-14T11:30:41.503307-06:00</td>\n      <td>2019-06-04T18:11:46.363233-05:00</td>\n      <td>female</td>\n      <td>760ba6a6-fa7f-4933-ad1a-869e5ef9d0c1</td>\n      <td>released</td>\n      <td>Unknown</td>\n      <td>Not Reported</td>\n      <td>GENIE-GRCC-h0dn1yd4_demo</td>\n      <td>not reported</td>\n      <td>None</td>\n      <td>NaN</td>\n      <td>NaN</td>\n      <td>NaN</td>\n      <td>NaN</td>\n      <td>-12053.0</td>\n      <td>NaN</td>\n      <td>NaN</td>\n      <td>NaN</td>\n      <td>12053.0</td>\n      <td>NaN</td>\n    </tr>\n    <tr>\n      <th>83085</th>\n      <td>2019-04-26T16:15:10.453565-05:00</td>\n      <td>2017-06-19T11:28:02.274449-05:00</td>\n      <td>female</td>\n      <td>5f4c2ca1-c1d1-4bd3-b07c-c10c274846f8</td>\n      <td>released</td>\n      <td>not reported</td>\n      <td>Not Reported</td>\n      <td>AD11580_demographic</td>\n      <td>not reported</td>\n      <td>NaN</td>\n      <td>NaN</td>\n      <td>NaN</td>\n      <td>NaN</td>\n      <td>NaN</td>\n      <td>NaN</td>\n      <td>NaN</td>\n      <td>NaN</td>\n      <td>NaN</td>\n      <td>NaN</td>\n      <td>NaN</td>\n    </tr>\n    <tr>\n      <th>83086</th>\n      <td>2019-11-18T13:54:59.294543-06:00</td>\n      <td>2018-09-13T18:15:19.002092-05:00</td>\n      <td>male</td>\n      <td>7df1ba21-5549-4782-bd86-d2eea3623cb0</td>\n      <td>released</td>\n      <td>white</td>\n      <td>Not Reported</td>\n      <td>GENIE-DFCI-010050_demo</td>\n      <td>not hispanic or latino</td>\n      <td>None</td>\n      <td>NaN</td>\n      <td>NaN</td>\n      <td>NaN</td>\n      <td>NaN</td>\n      <td>-21549.0</td>\n      <td>NaN</td>\n      <td>NaN</td>\n      <td>NaN</td>\n      <td>21549.0</td>\n      <td>NaN</td>\n    </tr>\n  </tbody>\n</table>\n<p>83087 rows × 20 columns</p>\n</div>",
      "text/plain": "                       updated_datetime                  created_datetime  \\\n0      2019-04-26T16:46:11.690380-05:00  2017-06-19T11:42:44.248885-05:00   \n1      2019-11-19T10:19:29.140531-06:00  2018-10-03T01:57:52.306175-05:00   \n2      2019-11-19T10:19:29.140531-06:00  2018-10-03T02:16:21.359476-05:00   \n3      2019-11-19T10:19:29.140531-06:00  2018-10-03T02:08:10.928833-05:00   \n4      2019-11-18T13:54:59.294543-06:00  2018-09-13T18:15:17.424980-05:00   \n...                                 ...                               ...   \n83082  2019-11-19T10:19:29.140531-06:00  2018-10-03T02:08:10.928833-05:00   \n83083  2019-07-31T19:12:59.683570-05:00                              None   \n83084  2019-11-14T11:30:41.503307-06:00  2019-06-04T18:11:46.363233-05:00   \n83085  2019-04-26T16:15:10.453565-05:00  2017-06-19T11:28:02.274449-05:00   \n83086  2019-11-18T13:54:59.294543-06:00  2018-09-13T18:15:19.002092-05:00   \n\n       gender                        demographic_id     state          race  \\\n0      female  4d0c7e80-79f9-43b2-aecc-9627c4df2138  released  not reported   \n1        male  6bafc55e-cfc7-4569-82ac-4c4093ca7d9f  released         white   \n2        male  b2c4ac65-af85-4045-8c73-5f491b1a1e7e  released         white   \n3      female  4e9b90f1-8a65-458f-aa8b-3ba47a0a6483  released         other   \n4        male  c3b8546e-3357-4482-8d2b-598c85ccb23b  released         white   \n...       ...                                   ...       ...           ...   \n83082  female  ddb149ab-861f-45dd-a6b4-ad3337610d99  released       Unknown   \n83083  female  40d1822f-29fe-5d63-9aea-172908494fd6  released         asian   \n83084  female  760ba6a6-fa7f-4933-ad1a-869e5ef9d0c1  released       Unknown   \n83085  female  5f4c2ca1-c1d1-4bd3-b07c-c10c274846f8  released  not reported   \n83086    male  7df1ba21-5549-4782-bd86-d2eea3623cb0  released         white   \n\n       vital_status              submitter_id               ethnicity  \\\n0      Not Reported        AD1602_demographic            not reported   \n1      Not Reported  GENIE-MSK-P-0000344_demo  not hispanic or latino   \n2      Not Reported  GENIE-MSK-P-0006425_demo  not hispanic or latino   \n3      Not Reported  GENIE-MSK-P-0016345_demo      hispanic or latino   \n4      Not Reported    GENIE-DFCI-037981_demo  not hispanic or latino   \n...             ...                       ...                     ...   \n83082  Not Reported  GENIE-MSK-P-0003045_demo  not hispanic or latino   \n83083         Alive  TCGA-DJ-A4V0_demographic  not hispanic or latino   \n83084  Not Reported  GENIE-GRCC-h0dn1yd4_demo            not reported   \n83085  Not Reported       AD11580_demographic            not reported   \n83086  Not Reported    GENIE-DFCI-010050_demo  not hispanic or latino   \n\n      cause_of_death  age_is_obfuscated  occupation_duration_years  \\\n0                NaN                NaN                        NaN   \n1               None                NaN                        NaN   \n2               None                NaN                        NaN   \n3               None                NaN                        NaN   \n4               None                NaN                        NaN   \n...              ...                ...                        ...   \n83082           None                NaN                        NaN   \n83083            NaN                NaN                        NaN   \n83084           None                NaN                        NaN   \n83085            NaN                NaN                        NaN   \n83086           None                NaN                        NaN   \n\n       cause_of_death_source  year_of_birth  days_to_birth  \\\n0                        NaN            NaN            NaN   \n1                        NaN            NaN       -18993.0   \n2                        NaN            NaN       -21915.0   \n3                        NaN            NaN       -22645.0   \n4                        NaN            NaN       -21915.0   \n...                      ...            ...            ...   \n83082                    NaN            NaN       -24471.0   \n83083                    NaN         1976.0       -13168.0   \n83084                    NaN            NaN       -12053.0   \n83085                    NaN            NaN            NaN   \n83086                    NaN            NaN       -21549.0   \n\n       weeks_gestation_at_birth  days_to_death  year_of_death  age_at_index  \\\n0                           NaN            NaN            NaN           NaN   \n1                           NaN            NaN            NaN       18993.0   \n2                           NaN            NaN            NaN       21915.0   \n3                           NaN            NaN            NaN       22645.0   \n4                           NaN            NaN            NaN       21915.0   \n...                         ...            ...            ...           ...   \n83082                       NaN            NaN            NaN       24471.0   \n83083                       NaN            NaN            NaN          36.0   \n83084                       NaN            NaN            NaN       12053.0   \n83085                       NaN            NaN            NaN           NaN   \n83086                       NaN            NaN            NaN       21549.0   \n\n       premature_at_birth  \n0                     NaN  \n1                     NaN  \n2                     NaN  \n3                     NaN  \n4                     NaN  \n...                   ...  \n83082                 NaN  \n83083                 NaN  \n83084                 NaN  \n83085                 NaN  \n83086                 NaN  \n\n[83087 rows x 20 columns]"
     },
     "execution_count": 23,
     "metadata": {},
     "output_type": "execute_result"
    }
   ],
   "source": [
    "json_normalize(data['demographic'])"
   ]
  },
  {
   "cell_type": "code",
   "execution_count": 27,
   "metadata": {},
   "outputs": [
    {
     "ename": "AttributeError",
     "evalue": "'str' object has no attribute 'values'",
     "output_type": "error",
     "traceback": [
      "\u001b[0;31m---------------------------------------------------------------------------\u001b[0m",
      "\u001b[0;31mAttributeError\u001b[0m                            Traceback (most recent call last)",
      "\u001b[0;32m<ipython-input-27-785948596b6b>\u001b[0m in \u001b[0;36m<module>\u001b[0;34m\u001b[0m\n\u001b[0;32m----> 1\u001b[0;31m \u001b[0mjson_normalize\u001b[0m\u001b[0;34m(\u001b[0m\u001b[0mdata\u001b[0m\u001b[0;34m)\u001b[0m\u001b[0;34m.\u001b[0m\u001b[0mcolumns\u001b[0m\u001b[0;34m\u001b[0m\u001b[0;34m\u001b[0m\u001b[0m\n\u001b[0m",
      "\u001b[0;32m~/.local/share/virtualenvs/cancer-survival-rates-XPA78zYg/lib/python3.6/site-packages/pandas/io/json/_normalize.py\u001b[0m in \u001b[0;36mjson_normalize\u001b[0;34m(data, record_path, meta, meta_prefix, record_prefix, errors, sep, max_level)\u001b[0m\n\u001b[1;32m    256\u001b[0m \u001b[0;34m\u001b[0m\u001b[0m\n\u001b[1;32m    257\u001b[0m     \u001b[0;32mif\u001b[0m \u001b[0mrecord_path\u001b[0m \u001b[0;32mis\u001b[0m \u001b[0;32mNone\u001b[0m\u001b[0;34m:\u001b[0m\u001b[0;34m\u001b[0m\u001b[0;34m\u001b[0m\u001b[0m\n\u001b[0;32m--> 258\u001b[0;31m         \u001b[0;32mif\u001b[0m \u001b[0many\u001b[0m\u001b[0;34m(\u001b[0m\u001b[0;34m[\u001b[0m\u001b[0misinstance\u001b[0m\u001b[0;34m(\u001b[0m\u001b[0mx\u001b[0m\u001b[0;34m,\u001b[0m \u001b[0mdict\u001b[0m\u001b[0;34m)\u001b[0m \u001b[0;32mfor\u001b[0m \u001b[0mx\u001b[0m \u001b[0;32min\u001b[0m \u001b[0my\u001b[0m\u001b[0;34m.\u001b[0m\u001b[0mvalues\u001b[0m\u001b[0;34m(\u001b[0m\u001b[0;34m)\u001b[0m\u001b[0;34m]\u001b[0m \u001b[0;32mfor\u001b[0m \u001b[0my\u001b[0m \u001b[0;32min\u001b[0m \u001b[0mdata\u001b[0m\u001b[0;34m)\u001b[0m\u001b[0;34m:\u001b[0m\u001b[0;34m\u001b[0m\u001b[0;34m\u001b[0m\u001b[0m\n\u001b[0m\u001b[1;32m    259\u001b[0m             \u001b[0;31m# naive normalization, this is idempotent for flat records\u001b[0m\u001b[0;34m\u001b[0m\u001b[0;34m\u001b[0m\u001b[0;34m\u001b[0m\u001b[0m\n\u001b[1;32m    260\u001b[0m             \u001b[0;31m# and potentially will inflate the data considerably for\u001b[0m\u001b[0;34m\u001b[0m\u001b[0;34m\u001b[0m\u001b[0;34m\u001b[0m\u001b[0m\n",
      "\u001b[0;32m~/.local/share/virtualenvs/cancer-survival-rates-XPA78zYg/lib/python3.6/site-packages/pandas/io/json/_normalize.py\u001b[0m in \u001b[0;36m<genexpr>\u001b[0;34m(.0)\u001b[0m\n\u001b[1;32m    256\u001b[0m \u001b[0;34m\u001b[0m\u001b[0m\n\u001b[1;32m    257\u001b[0m     \u001b[0;32mif\u001b[0m \u001b[0mrecord_path\u001b[0m \u001b[0;32mis\u001b[0m \u001b[0;32mNone\u001b[0m\u001b[0;34m:\u001b[0m\u001b[0;34m\u001b[0m\u001b[0;34m\u001b[0m\u001b[0m\n\u001b[0;32m--> 258\u001b[0;31m         \u001b[0;32mif\u001b[0m \u001b[0many\u001b[0m\u001b[0;34m(\u001b[0m\u001b[0;34m[\u001b[0m\u001b[0misinstance\u001b[0m\u001b[0;34m(\u001b[0m\u001b[0mx\u001b[0m\u001b[0;34m,\u001b[0m \u001b[0mdict\u001b[0m\u001b[0;34m)\u001b[0m \u001b[0;32mfor\u001b[0m \u001b[0mx\u001b[0m \u001b[0;32min\u001b[0m \u001b[0my\u001b[0m\u001b[0;34m.\u001b[0m\u001b[0mvalues\u001b[0m\u001b[0;34m(\u001b[0m\u001b[0;34m)\u001b[0m\u001b[0;34m]\u001b[0m \u001b[0;32mfor\u001b[0m \u001b[0my\u001b[0m \u001b[0;32min\u001b[0m \u001b[0mdata\u001b[0m\u001b[0;34m)\u001b[0m\u001b[0;34m:\u001b[0m\u001b[0;34m\u001b[0m\u001b[0;34m\u001b[0m\u001b[0m\n\u001b[0m\u001b[1;32m    259\u001b[0m             \u001b[0;31m# naive normalization, this is idempotent for flat records\u001b[0m\u001b[0;34m\u001b[0m\u001b[0;34m\u001b[0m\u001b[0;34m\u001b[0m\u001b[0m\n\u001b[1;32m    260\u001b[0m             \u001b[0;31m# and potentially will inflate the data considerably for\u001b[0m\u001b[0;34m\u001b[0m\u001b[0;34m\u001b[0m\u001b[0;34m\u001b[0m\u001b[0m\n",
      "\u001b[0;31mAttributeError\u001b[0m: 'str' object has no attribute 'values'"
     ]
    }
   ],
   "source": [
    "json_normalize(data).columns"
   ]
  },
  {
   "cell_type": "code",
   "execution_count": 28,
   "metadata": {},
   "outputs": [],
   "source": [
    "demos = json_normalize(data['demographic'])"
   ]
  },
  {
   "cell_type": "code",
   "execution_count": 30,
   "metadata": {},
   "outputs": [
    {
     "data": {
      "text/plain": "Index(['updated_datetime', 'created_datetime', 'gender', 'demographic_id',\n       'state', 'race', 'vital_status', 'submitter_id', 'ethnicity',\n       'cause_of_death', 'age_is_obfuscated', 'occupation_duration_years',\n       'cause_of_death_source', 'year_of_birth', 'days_to_birth',\n       'weeks_gestation_at_birth', 'days_to_death', 'year_of_death',\n       'age_at_index', 'premature_at_birth'],\n      dtype='object')"
     },
     "execution_count": 30,
     "metadata": {},
     "output_type": "execute_result"
    }
   ],
   "source": [
    "demos.columns"
   ]
  },
  {
   "cell_type": "code",
   "execution_count": 56,
   "metadata": {},
   "outputs": [
    {
     "data": {
      "text/plain": "True     78288\nFalse     4799\nName: days_to_death, dtype: int64"
     },
     "execution_count": 56,
     "metadata": {},
     "output_type": "execute_result"
    }
   ],
   "source": [
    "demos['days_to_death'].isnull().value_counts()"
   ]
  },
  {
   "cell_type": "code",
   "execution_count": 47,
   "metadata": {},
   "outputs": [
    {
     "data": {
      "text/plain": "Not Reported    63239\nAlive           13334\nDead             6152\nUnknown           362\nName: vital_status, dtype: int64"
     },
     "execution_count": 47,
     "metadata": {},
     "output_type": "execute_result"
    }
   ],
   "source": [
    "demos['vital_status'].value_counts()"
   ]
  },
  {
   "cell_type": "code",
   "execution_count": 31,
   "metadata": {},
   "outputs": [
    {
     "data": {
      "text/plain": "count     83087\nunique       10\ntop       white\nfreq      48421\nName: race, dtype: object"
     },
     "execution_count": 31,
     "metadata": {},
     "output_type": "execute_result"
    }
   ],
   "source": [
    "demos['race'].describe()"
   ]
  },
  {
   "cell_type": "code",
   "execution_count": 37,
   "metadata": {},
   "outputs": [
    {
     "data": {
      "text/plain": "white                                        48421\nnot reported                                 20283\nUnknown                                       6016\nblack or african american                     4321\nasian                                         2926\nother                                          945\namerican indian or alaska native               111\nnative hawaiian or other pacific islander       42\nnot allowed to collect                          19\nunknown                                          3\nName: race, dtype: int64"
     },
     "execution_count": 37,
     "metadata": {},
     "output_type": "execute_result"
    }
   ],
   "source": [
    "demos['race'].value_counts()"
   ]
  },
  {
   "cell_type": "code",
   "execution_count": 38,
   "metadata": {},
   "outputs": [
    {
     "data": {
      "text/plain": "female          44204\nmale            38716\nunknown            87\nnot reported       79\nunspecified         1\nName: gender, dtype: int64"
     },
     "execution_count": 38,
     "metadata": {},
     "output_type": "execute_result"
    }
   ],
   "source": [
    "demos['gender'].value_counts()"
   ]
  },
  {
   "cell_type": "code",
   "execution_count": 39,
   "metadata": {},
   "outputs": [
    {
     "data": {
      "text/plain": "23376.0    1815\n24837.0    1791\n21915.0    1719\n20454.0    1524\n24471.0    1412\n           ... \n27552.0       1\n13683.0       1\n27945.0       1\n30631.0       1\n17778.0       1\nName: age_at_index, Length: 179, dtype: int64"
     },
     "execution_count": 39,
     "metadata": {},
     "output_type": "execute_result"
    }
   ],
   "source": [
    "demos['age_at_index'].value_counts()"
   ]
  },
  {
   "cell_type": "code",
   "execution_count": 40,
   "metadata": {},
   "outputs": [
    {
     "data": {
      "text/plain": "array([[<matplotlib.axes._subplots.AxesSubplot object at 0x7fb94ca49a58>]],\n      dtype=object)"
     },
     "execution_count": 40,
     "metadata": {},
     "output_type": "execute_result"
    },
    {
     "data": {
      "image/png": "[encoded data removed]",
      "text/plain": "<Figure size 432x288 with 1 Axes>"
     },
     "metadata": {
      "needs_background": "light"
     },
     "output_type": "display_data"
    }
   ],
   "source": [
    "pd.DataFrame.hist(demos, column='age_at_index')"
   ]
  },
  {
   "cell_type": "code",
   "execution_count": 44,
   "metadata": {},
   "outputs": [],
   "source": [
    "demos['age'] = demos['age_at_index'] // 365"
   ]
  },
  {
   "cell_type": "code",
   "execution_count": 45,
   "metadata": {},
   "outputs": [
    {
     "data": {
      "text/plain": "array([[<matplotlib.axes._subplots.AxesSubplot object at 0x7fb945fcff28>]],\n      dtype=object)"
     },
     "execution_count": 45,
     "metadata": {},
     "output_type": "execute_result"
    },
    {
     "data": {
      "image/png": "[encoded data removed]",
      "text/plain": "<Figure size 432x288 with 1 Axes>"
     },
     "metadata": {
      "needs_background": "light"
     },
     "output_type": "display_data"
    }
   ],
   "source": [
    "pd.DataFrame.hist(demos, column='age')"
   ]
  },
  {
   "cell_type": "code",
   "execution_count": 46,
   "metadata": {},
   "outputs": [
    {
     "data": {
      "text/plain": "count    55978.000000\nmean        46.206385\nstd         27.327178\nmin          0.000000\n25%         31.000000\n50%         56.000000\n75%         67.000000\nmax         90.000000\nName: age, dtype: float64"
     },
     "execution_count": 46,
     "metadata": {},
     "output_type": "execute_result"
    }
   ],
   "source": [
    "demos['age'].describe()"
   ]
  },
  {
   "cell_type": "code",
   "execution_count": 58,
   "metadata": {},
   "outputs": [
    {
     "data": {
      "text/plain": "Index(['updated_datetime', 'submitter_id', 'case_id', 'id', 'disease_type',\n       'diagnoses', 'sample_ids', 'diagnosis_ids', 'created_datetime',\n       'submitter_aliquot_ids', 'demographic', 'state', 'aliquot_ids',\n       'primary_site', 'slide_ids', 'submitter_sample_ids',\n       'submitter_diagnosis_ids', 'submitter_slide_ids', 'index_date',\n       'days_to_lost_to_followup', 'lost_to_followup', 'exposures',\n       'portion_ids', 'submitter_analyte_ids', 'analyte_ids',\n       'submitter_portion_ids', 'follow_ups', 'family_histories'],\n      dtype='object')"
     },
     "execution_count": 58,
     "metadata": {},
     "output_type": "execute_result"
    }
   ],
   "source": [
    "data.columns"
   ]
  },
  {
   "cell_type": "code",
   "execution_count": 68,
   "metadata": {},
   "outputs": [
    {
     "data": {
      "text/plain": "Cancer Related        111\nNot Cancer Related     87\nUnknown                 3\nNot Reported            2\nName: cause_of_death, dtype: int64"
     },
     "execution_count": 68,
     "metadata": {},
     "output_type": "execute_result"
    }
   ],
   "source": [
    "demos['cause_of_death'].value_counts()"
   ]
  },
  {
   "cell_type": "code",
   "execution_count": 69,
   "metadata": {},
   "outputs": [],
   "source": [
    "target = data.loc[data['case_id'] == 'TCGA-HZ-A49G']"
   ]
  },
  {
   "cell_type": "code",
   "execution_count": 76,
   "metadata": {},
   "outputs": [],
   "source": [
    "link = 'https://portal.gdc.cancer.gov/cases/47cb93bc-8f6b-4b2a-804c-bb4fc78df9e1?filters=%7B%22content%22%3A%5B%7B%22op%22%3A%22in%22%2C%22content%22%3A%7B%22field%22%3A%22cases.case_id%22%2C%22value%22%3A%5B%2247cb93bc-8f6b-4b2a-804c-bb4fc78df9e1%22%5D%7D%7D%2C%7B%22op%22%3A%22in%22%2C%22content%22%3A%7B%22field%22%3A%22genes.is_cancer_gene_census%22%2C%22value%22%3A%5B%22true%22%5D%7D%7D%5D%2C%22op%22%3A%22and%22%7D'\n",
    "\n",
    "target = data.loc[data['case_id'] == '47cb93bc-8f6b-4b2a-804c-bb4fc78df9e1']"
   ]
  },
  {
   "cell_type": "code",
   "execution_count": 89,
   "metadata": {},
   "outputs": [],
   "source": [
    "td = target['demographic']\n",
    "td = td[23530]"
   ]
  },
  {
   "cell_type": "code",
   "execution_count": 92,
   "metadata": {},
   "outputs": [
    {
     "data": {
      "text/plain": "Index(['updated_datetime', 'submitter_id', 'case_id', 'id', 'disease_type',\n       'diagnoses', 'sample_ids', 'diagnosis_ids', 'created_datetime',\n       'submitter_aliquot_ids', 'demographic', 'state', 'aliquot_ids',\n       'primary_site', 'slide_ids', 'submitter_sample_ids',\n       'submitter_diagnosis_ids', 'submitter_slide_ids', 'index_date',\n       'days_to_lost_to_followup', 'lost_to_followup', 'exposures',\n       'portion_ids', 'submitter_analyte_ids', 'analyte_ids',\n       'submitter_portion_ids', 'follow_ups', 'family_histories'],\n      dtype='object')"
     },
     "execution_count": 92,
     "metadata": {},
     "output_type": "execute_result"
    }
   ],
   "source": [
    "target.columns"
   ]
  },
  {
   "cell_type": "code",
   "execution_count": 104,
   "metadata": {},
   "outputs": [],
   "source": [
    "t2 = data.loc[data['case_id'] == '9924e309-5c47-42fe-b937-547f2b3d6842']\n",
    "t2d = t2['demographic']"
   ]
  },
  {
   "cell_type": "code",
   "execution_count": 110,
   "metadata": {},
   "outputs": [
    {
     "data": {
      "text/html": "<div>\n<style scoped>\n    .dataframe tbody tr th:only-of-type {\n        vertical-align: middle;\n    }\n\n    .dataframe tbody tr th {\n        vertical-align: top;\n    }\n\n    .dataframe thead th {\n        text-align: right;\n    }\n</style>\n<table border=\"1\" class=\"dataframe\">\n  <thead>\n    <tr style=\"text-align: right;\">\n      <th></th>\n      <th>updated_datetime</th>\n      <th>submitter_id</th>\n      <th>case_id</th>\n      <th>id</th>\n      <th>disease_type</th>\n      <th>diagnoses</th>\n      <th>sample_ids</th>\n      <th>diagnosis_ids</th>\n      <th>created_datetime</th>\n      <th>submitter_aliquot_ids</th>\n      <th>...</th>\n      <th>index_date</th>\n      <th>days_to_lost_to_followup</th>\n      <th>lost_to_followup</th>\n      <th>exposures</th>\n      <th>portion_ids</th>\n      <th>submitter_analyte_ids</th>\n      <th>analyte_ids</th>\n      <th>submitter_portion_ids</th>\n      <th>follow_ups</th>\n      <th>family_histories</th>\n    </tr>\n  </thead>\n  <tbody>\n    <tr>\n      <th>23530</th>\n      <td>2019-08-06T14:42:49.422828-05:00</td>\n      <td>TCGA-HZ-A49G</td>\n      <td>47cb93bc-8f6b-4b2a-804c-bb4fc78df9e1</td>\n      <td>47cb93bc-8f6b-4b2a-804c-bb4fc78df9e1</td>\n      <td>Ductal and Lobular Neoplasms</td>\n      <td>[{'year_of_diagnosis': 2012, 'classification_o...</td>\n      <td>[c05920dc-cd24-4d6c-b749-81b3833e5a95, 2b44f6c...</td>\n      <td>[94d51d39-7ed8-5406-a473-3b319a34501e]</td>\n      <td>None</td>\n      <td>[TCGA-HZ-A49G-01A-11D-A77V-36, TCGA-HZ-A49G-01...</td>\n      <td>...</td>\n      <td>NaN</td>\n      <td>NaN</td>\n      <td>NaN</td>\n      <td>[{'cigarettes_per_day': None, 'weight': None, ...</td>\n      <td>[7eef0840-a188-43ff-a85f-2a61653bbd63, 5583c83...</td>\n      <td>[TCGA-HZ-A49G-10A-01W, TCGA-HZ-A49G-01A-11R, T...</td>\n      <td>[2f40dfaf-0800-46f1-bf99-1af9f67a4531, 0b64fd3...</td>\n      <td>[TCGA-HZ-A49G-10A-01, TCGA-HZ-A49G-01A-11]</td>\n      <td>NaN</td>\n      <td>NaN</td>\n    </tr>\n  </tbody>\n</table>\n<p>1 rows × 28 columns</p>\n</div>",
      "text/plain": "                       updated_datetime  submitter_id  \\\n23530  2019-08-06T14:42:49.422828-05:00  TCGA-HZ-A49G   \n\n                                    case_id  \\\n23530  47cb93bc-8f6b-4b2a-804c-bb4fc78df9e1   \n\n                                         id                  disease_type  \\\n23530  47cb93bc-8f6b-4b2a-804c-bb4fc78df9e1  Ductal and Lobular Neoplasms   \n\n                                               diagnoses  \\\n23530  [{'year_of_diagnosis': 2012, 'classification_o...   \n\n                                              sample_ids  \\\n23530  [c05920dc-cd24-4d6c-b749-81b3833e5a95, 2b44f6c...   \n\n                                diagnosis_ids created_datetime  \\\n23530  [94d51d39-7ed8-5406-a473-3b319a34501e]             None   \n\n                                   submitter_aliquot_ids  ... index_date  \\\n23530  [TCGA-HZ-A49G-01A-11D-A77V-36, TCGA-HZ-A49G-01...  ...        NaN   \n\n      days_to_lost_to_followup lost_to_followup  \\\n23530                      NaN              NaN   \n\n                                               exposures  \\\n23530  [{'cigarettes_per_day': None, 'weight': None, ...   \n\n                                             portion_ids  \\\n23530  [7eef0840-a188-43ff-a85f-2a61653bbd63, 5583c83...   \n\n                                   submitter_analyte_ids  \\\n23530  [TCGA-HZ-A49G-10A-01W, TCGA-HZ-A49G-01A-11R, T...   \n\n                                             analyte_ids  \\\n23530  [2f40dfaf-0800-46f1-bf99-1af9f67a4531, 0b64fd3...   \n\n                            submitter_portion_ids follow_ups  family_histories  \n23530  [TCGA-HZ-A49G-10A-01, TCGA-HZ-A49G-01A-11]        NaN               NaN  \n\n[1 rows x 28 columns]"
     },
     "execution_count": 110,
     "metadata": {},
     "output_type": "execute_result"
    }
   ],
   "source": [
    "target"
   ]
  },
  {
   "cell_type": "code",
   "execution_count": 112,
   "metadata": {},
   "outputs": [],
   "source": [
    "t2d = t2d[t2d.keys()[0]]"
   ]
  },
  {
   "cell_type": "code",
   "execution_count": 121,
   "metadata": {},
   "outputs": [],
   "source": [
    "t2di = t2['diagnoses']"
   ]
  },
  {
   "cell_type": "code",
   "execution_count": 122,
   "metadata": {},
   "outputs": [],
   "source": [
    "t2di = t2di[t2di.keys()[0]]"
   ]
  },
  {
   "cell_type": "code",
   "execution_count": 125,
   "metadata": {},
   "outputs": [
    {
     "data": {
      "text/plain": "[{'year_of_diagnosis': 2009,\n  'classification_of_tumor': 'not reported',\n  'last_known_disease_status': 'not reported',\n  'updated_datetime': '2019-08-08T17:19:44.867503-05:00',\n  'primary_diagnosis': 'Infiltrating duct carcinoma, NOS',\n  'submitter_id': 'TCGA-3A-A9I5_diagnosis',\n  'tumor_stage': 'not reported',\n  'age_at_diagnosis': 21175,\n  'morphology': '8500/3',\n  'days_to_last_known_disease_status': None,\n  'created_datetime': None,\n  'prior_treatment': 'No',\n  'ajcc_pathologic_n': 'N0',\n  'ajcc_pathologic_m': 'MX',\n  'state': 'released',\n  'days_to_recurrence': None,\n  'diagnosis_id': 'e05953e9-460f-515f-bef0-6911a96dff45',\n  'tumor_grade': 'not reported',\n  'treatments': [{'days_to_treatment_start': None,\n    'updated_datetime': '2019-07-31T15:34:18.028800-05:00',\n    'treatment_effect': None,\n    'initial_disease_status': None,\n    'treatment_type': 'Pharmaceutical Therapy, NOS',\n    'submitter_id': 'TCGA-3A-A9I5_treatment_1',\n    'treatment_id': '37fabb57-6402-5c5a-a601-94fe5cea3f4b',\n    'created_datetime': '2019-04-28T08:52:37.361489-05:00',\n    'state': 'released',\n    'therapeutic_agents': None,\n    'regimen_or_line_of_therapy': None,\n    'treatment_intent_type': None,\n    'treatment_anatomic_site': None,\n    'treatment_outcome': None,\n    'days_to_treatment_end': None,\n    'treatment_or_therapy': 'yes'},\n   {'updated_datetime': '2019-07-31T15:34:18.028800-05:00',\n    'created_datetime': None,\n    'treatment_type': 'Radiation Therapy, NOS',\n    'submitter_id': 'TCGA-3A-A9I5_treatment',\n    'treatment_id': 'dfb7f75b-74f9-573b-ad86-d26717679633',\n    'state': 'released',\n    'therapeutic_agents': None,\n    'treatment_intent_type': None,\n    'treatment_or_therapy': 'yes'}],\n  'icd_10_code': 'C25.0',\n  'days_to_diagnosis': 0,\n  'tissue_or_organ_of_origin': 'Head of pancreas',\n  'progression_or_recurrence': 'not reported',\n  'prior_malignancy': 'yes',\n  'ajcc_staging_system_edition': '6th',\n  'synchronous_malignancy': 'No',\n  'site_of_resection_or_biopsy': 'Head of pancreas',\n  'days_to_last_follow_up': 1794}]"
     },
     "execution_count": 125,
     "metadata": {},
     "output_type": "execute_result"
    }
   ],
   "source": [
    "t2di"
   ]
  },
  {
   "cell_type": "code",
   "execution_count": 134,
   "metadata": {},
   "outputs": [],
   "source": [
    "def checkLen(df, column):\n",
    "    return df.dropna(subset=[column])[column].map(len).value_counts()"
   ]
  },
  {
   "cell_type": "code",
   "execution_count": 139,
   "metadata": {},
   "outputs": [],
   "source": [
    "t3 = data.loc[data['submitter_id'] == 'TCGA-HV-A5A6']"
   ]
  },
  {
   "cell_type": "code",
   "execution_count": 152,
   "metadata": {},
   "outputs": [],
   "source": [
    "t3e = json_normalize(t3['diagnoses'].tolist()[0][0])"
   ]
  },
  {
   "cell_type": "code",
   "execution_count": 159,
   "metadata": {},
   "outputs": [
    {
     "data": {
      "text/plain": "Index(['year_of_diagnosis', 'classification_of_tumor',\n       'last_known_disease_status', 'updated_datetime', 'primary_diagnosis',\n       'submitter_id', 'tumor_stage', 'age_at_diagnosis', 'morphology',\n       'days_to_last_known_disease_status', 'created_datetime',\n       'prior_treatment', 'ajcc_pathologic_n', 'ajcc_pathologic_m', 'state',\n       'days_to_last_follow_up', 'days_to_recurrence', 'diagnosis_id',\n       'tumor_grade', 'treatments', 'icd_10_code', 'days_to_diagnosis',\n       'tissue_or_organ_of_origin', 'progression_or_recurrence',\n       'prior_malignancy', 'ajcc_staging_system_edition',\n       'ajcc_pathologic_stage', 'synchronous_malignancy',\n       'site_of_resection_or_biopsy', 'ajcc_pathologic_t'],\n      dtype='object')"
     },
     "execution_count": 159,
     "metadata": {},
     "output_type": "execute_result"
    }
   ],
   "source": [
    "t3e.columns"
   ]
  },
  {
   "cell_type": "code",
   "execution_count": 166,
   "metadata": {},
   "outputs": [
    {
     "data": {
      "text/plain": "Index(['updated_datetime', 'submitter_id', 'case_id', 'id', 'disease_type',\n       'diagnoses', 'sample_ids', 'diagnosis_ids', 'created_datetime',\n       'submitter_aliquot_ids', 'demographic', 'state', 'aliquot_ids',\n       'primary_site', 'slide_ids', 'submitter_sample_ids',\n       'submitter_diagnosis_ids', 'submitter_slide_ids', 'index_date',\n       'days_to_lost_to_followup', 'lost_to_followup', 'exposures',\n       'portion_ids', 'submitter_analyte_ids', 'analyte_ids',\n       'submitter_portion_ids', 'follow_ups', 'family_histories'],\n      dtype='object')"
     },
     "execution_count": 166,
     "metadata": {},
     "output_type": "execute_result"
    }
   ],
   "source": [
    "t3.columns"
   ]
  },
  {
   "cell_type": "code",
   "execution_count": 171,
   "metadata": {},
   "outputs": [],
   "source": [
    "t3d = json_normalize(t3['demographic'])"
   ]
  },
  {
   "cell_type": "code",
   "execution_count": 182,
   "metadata": {},
   "outputs": [
    {
     "ename": "KeyError",
     "evalue": "'cause_of_death'",
     "output_type": "error",
     "traceback": [
      "\u001b[0;31m---------------------------------------------------------------------------\u001b[0m",
      "\u001b[0;31mKeyError\u001b[0m                                  Traceback (most recent call last)",
      "\u001b[0;32m<ipython-input-182-b65eb5d5ed14>\u001b[0m in \u001b[0;36m<module>\u001b[0;34m\u001b[0m\n\u001b[0;32m----> 1\u001b[0;31m \u001b[0mtd\u001b[0m\u001b[0;34m[\u001b[0m\u001b[0;34m'cause_of_death'\u001b[0m\u001b[0;34m]\u001b[0m\u001b[0;34m\u001b[0m\u001b[0;34m\u001b[0m\u001b[0m\n\u001b[0m",
      "\u001b[0;31mKeyError\u001b[0m: 'cause_of_death'"
     ]
    }
   ],
   "source": [
    "td['cause_of_death']"
   ]
  },
  {
   "cell_type": "code",
   "execution_count": 183,
   "metadata": {},
   "outputs": [],
   "source": [
    "dias = json_normalize(data['diagnoses'].tolist()[0][0])"
   ]
  },
  {
   "cell_type": "code",
   "execution_count": 200,
   "metadata": {},
   "outputs": [],
   "source": [
    "dias = json_normalize(data.dropna(subset=['diagnoses'])['diagnoses'].apply(lambda x: x[0]))"
   ]
  },
  {
   "cell_type": "code",
   "execution_count": 205,
   "metadata": {},
   "outputs": [
    {
     "data": {
      "text/plain": "Index(['progression_or_recurrence', 'classification_of_tumor',\n       'last_known_disease_status', 'tumor_grade', 'tissue_or_organ_of_origin',\n       'created_datetime', 'updated_datetime', 'primary_diagnosis',\n       'submitter_id', 'site_of_resection_or_biopsy',\n       ...\n       'anaplasia_present_type', 'days_to_diagnosis',\n       'ajcc_staging_system_edition',\n       'medulloblastoma_molecular_classification', 'cog_renal_stage',\n       'synchronous_malignancy', 'metastasis_at_diagnosis_site',\n       'ovarian_surface_involvement', 'gleason_grade_group', 'treatments'],\n      dtype='object', length=106)"
     },
     "execution_count": 205,
     "metadata": {},
     "output_type": "execute_result"
    }
   ],
   "source": [
    "dias.columns"
   ]
  },
  {
   "cell_type": "code",
   "execution_count": 207,
   "metadata": {},
   "outputs": [
    {
     "data": {
      "text/plain": "True     78288\nFalse     4799\nName: days_to_death, dtype: int64"
     },
     "execution_count": 207,
     "metadata": {},
     "output_type": "execute_result"
    }
   ],
   "source": [
    "demos['days_to_death'].isnull().value_counts()"
   ]
  },
  {
   "cell_type": "code",
   "execution_count": 209,
   "metadata": {},
   "outputs": [
    {
     "data": {
      "text/plain": "True     66320\nFalse    16766\nName: days_to_last_follow_up, dtype: int64"
     },
     "execution_count": 209,
     "metadata": {},
     "output_type": "execute_result"
    }
   ],
   "source": [
    "dias['days_to_last_follow_up'].isnull().value_counts()"
   ]
  },
  {
   "cell_type": "code",
   "execution_count": 220,
   "metadata": {},
   "outputs": [],
   "source": [
    "demos['over_50'] = [1 if x >= 50 else 0 for x in demos['age']]"
   ]
  },
  {
   "cell_type": "code",
   "execution_count": 230,
   "metadata": {},
   "outputs": [],
   "source": [
    "grouped = demos.groupby(['gender', 'race', 'ethnicity', 'over_50'], as_index=False).count()"
   ]
  },
  {
   "cell_type": "code",
   "execution_count": 231,
   "metadata": {},
   "outputs": [
    {
     "data": {
      "text/plain": "Unknown                                      16\nwhite                                        16\nblack or african american                    16\nasian                                        14\nother                                        13\namerican indian or alaska native             13\nnot reported                                 11\nnative hawaiian or other pacific islander     5\nnot allowed to collect                        5\nunknown                                       3\nName: race, dtype: int64"
     },
     "execution_count": 231,
     "metadata": {},
     "output_type": "execute_result"
    }
   ],
   "source": [
    "grouped['race'].value_counts()"
   ]
  },
  {
   "cell_type": "code",
   "execution_count": 234,
   "metadata": {},
   "outputs": [
    {
     "data": {
      "text/plain": "not hispanic or latino    47540\nnot reported              31640\nhispanic or latino         3102\nUnknown                     805\nName: ethnicity, dtype: int64"
     },
     "execution_count": 234,
     "metadata": {},
     "output_type": "execute_result"
    }
   ],
   "source": [
    "demos['ethnicity'].value_counts()"
   ]
  }
 ]
}